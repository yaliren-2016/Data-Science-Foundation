{
 "cells": [
  {
   "cell_type": "code",
   "execution_count": 3,
   "metadata": {},
   "outputs": [],
   "source": [
    "import pandas as pd\n",
    "import seaborn as sns\n",
    "import numpy as np\n",
    "import sklearn as sk\n",
    "import matplotlib.pyplot as plt\n",
    "import datetime as dtm\n",
    "\n",
    "from matplotlib.pylab import rcParams\n",
    "rcParams['figure.figsize'] = 15, 6\n",
    "from pandas import Series\n",
    "\n",
    "import xlrd;\n",
    "import openpyxl;\n",
    "from sklearn.linear_model import LogisticRegression"
   ]
  },
  {
   "cell_type": "code",
   "execution_count": 2,
   "metadata": {},
   "outputs": [
    {
     "name": "stderr",
     "output_type": "stream",
     "text": [
      "ERROR:root:Internal Python error in the inspect module.\n",
      "Below is the traceback from this internal error.\n",
      "\n"
     ]
    },
    {
     "name": "stdout",
     "output_type": "stream",
     "text": [
      "Traceback (most recent call last):\n",
      "  File \"C:\\Users\\YaliRen\\Anaconda3\\lib\\site-packages\\IPython\\core\\interactiveshell.py\", line 3326, in run_code\n",
      "    exec(code_obj, self.user_global_ns, self.user_ns)\n",
      "  File \"<ipython-input-2-5c78b2376798>\", line 1, in <module>\n",
      "    train = pd.read_csv( r\"Springleaf_Marketing_Response\\train.csv\", low_memory=False)\n",
      "  File \"C:\\Users\\YaliRen\\Anaconda3\\lib\\site-packages\\pandas\\io\\parsers.py\", line 685, in parser_f\n",
      "    return _read(filepath_or_buffer, kwds)\n",
      "  File \"C:\\Users\\YaliRen\\Anaconda3\\lib\\site-packages\\pandas\\io\\parsers.py\", line 463, in _read\n",
      "    data = parser.read(nrows)\n",
      "  File \"C:\\Users\\YaliRen\\Anaconda3\\lib\\site-packages\\pandas\\io\\parsers.py\", line 1154, in read\n",
      "    ret = self._engine.read(nrows)\n",
      "  File \"C:\\Users\\YaliRen\\Anaconda3\\lib\\site-packages\\pandas\\io\\parsers.py\", line 2059, in read\n",
      "    data = self._reader.read(nrows)\n",
      "  File \"pandas\\_libs\\parsers.pyx\", line 884, in pandas._libs.parsers.TextReader.read\n",
      "  File \"pandas\\_libs\\parsers.pyx\", line 973, in pandas._libs.parsers.TextReader._read_rows\n",
      "  File \"pandas\\_libs\\parsers.pyx\", line 1105, in pandas._libs.parsers.TextReader._convert_column_data\n",
      "  File \"pandas\\_libs\\parsers.pyx\", line 1151, in pandas._libs.parsers.TextReader._convert_tokens\n",
      "  File \"pandas\\_libs\\parsers.pyx\", line 1197, in pandas._libs.parsers.TextReader._convert_with_dtype\n",
      "  File \"C:\\Users\\YaliRen\\Anaconda3\\lib\\site-packages\\pandas\\core\\dtypes\\common.py\", line 678, in is_categorical_dtype\n",
      "    def is_categorical_dtype(arr_or_dtype):\n",
      "KeyboardInterrupt\n",
      "\n",
      "During handling of the above exception, another exception occurred:\n",
      "\n",
      "Traceback (most recent call last):\n",
      "  File \"C:\\Users\\YaliRen\\Anaconda3\\lib\\site-packages\\IPython\\core\\interactiveshell.py\", line 2040, in showtraceback\n",
      "    stb = value._render_traceback_()\n",
      "AttributeError: 'KeyboardInterrupt' object has no attribute '_render_traceback_'\n",
      "\n",
      "During handling of the above exception, another exception occurred:\n",
      "\n",
      "Traceback (most recent call last):\n",
      "  File \"C:\\Users\\YaliRen\\Anaconda3\\lib\\site-packages\\IPython\\core\\ultratb.py\", line 1101, in get_records\n",
      "    return _fixed_getinnerframes(etb, number_of_lines_of_context, tb_offset)\n",
      "  File \"C:\\Users\\YaliRen\\Anaconda3\\lib\\site-packages\\IPython\\core\\ultratb.py\", line 319, in wrapped\n",
      "    return f(*args, **kwargs)\n",
      "  File \"C:\\Users\\YaliRen\\Anaconda3\\lib\\site-packages\\IPython\\core\\ultratb.py\", line 353, in _fixed_getinnerframes\n",
      "    records = fix_frame_records_filenames(inspect.getinnerframes(etb, context))\n",
      "  File \"C:\\Users\\YaliRen\\Anaconda3\\lib\\inspect.py\", line 1502, in getinnerframes\n",
      "    frameinfo = (tb.tb_frame,) + getframeinfo(tb, context)\n",
      "  File \"C:\\Users\\YaliRen\\Anaconda3\\lib\\inspect.py\", line 1464, in getframeinfo\n",
      "    lines, lnum = findsource(frame)\n",
      "  File \"C:\\Users\\YaliRen\\Anaconda3\\lib\\site-packages\\IPython\\core\\ultratb.py\", line 185, in findsource\n",
      "    lines = linecache.getlines(file, globals_dict)\n",
      "  File \"C:\\Users\\YaliRen\\Anaconda3\\lib\\linecache.py\", line 47, in getlines\n",
      "    return updatecache(filename, module_globals)\n",
      "  File \"C:\\Users\\YaliRen\\Anaconda3\\lib\\linecache.py\", line 136, in updatecache\n",
      "    with tokenize.open(fullname) as fp:\n",
      "  File \"C:\\Users\\YaliRen\\Anaconda3\\lib\\tokenize.py\", line 447, in open\n",
      "    buffer = _builtin_open(filename, 'rb')\n",
      "KeyboardInterrupt\n"
     ]
    },
    {
     "ename": "KeyboardInterrupt",
     "evalue": "",
     "output_type": "error",
     "traceback": [
      "\u001b[1;31m---------------------------------------------------------------------------\u001b[0m"
     ]
    }
   ],
   "source": [
    "train = pd.read_csv( r\"Springleaf_Marketing_Response\\train.csv\", low_memory=False)\n",
    "y_train = train['target']\n",
    "train.pop('target')\n",
    "modelFit = LogisticRegression().fit(train, y_train)"
   ]
  },
  {
   "cell_type": "code",
   "execution_count": null,
   "metadata": {},
   "outputs": [],
   "source": [
    "predicted_train_classes = modelFit.predict(train)\n",
    "train_accuracy = accuracy_score(y_train, predicted_train_classes)\n",
    "print (train_accuracy )"
   ]
  },
  {
   "cell_type": "code",
   "execution_count": null,
   "metadata": {},
   "outputs": [],
   "source": [
    "desc  = train.describe().T\n",
    "desc[\"missing%\"] = 1 - desc['count']/len(train)\n",
    "print (desc)"
   ]
  },
  {
   "cell_type": "code",
   "execution_count": 4,
   "metadata": {},
   "outputs": [
    {
     "name": "stdout",
     "output_type": "stream",
     "text": [
      "                          SelectedHookloadFiltered  TravBlockHookload  \\\n",
      "SelectedHookloadFiltered                  1.000000           0.977222   \n",
      "TravBlockHookload                         0.977222           1.000000   \n",
      "DeadlineHookload                          0.998404           0.975663   \n",
      "MotorTorqueA                              0.995558           0.972481   \n",
      "MotorTorqueB                              0.995739           0.972689   \n",
      "MotorTorqueD                              0.995594           0.972433   \n",
      "ElevatorPosition                          0.018461           0.018200   \n",
      "DWBreaksOn                               -0.104058          -0.109107   \n",
      "MotorASpeed                              -0.047342          -0.050003   \n",
      "CompLoadFluidIndicator                   -0.193991          -0.203401   \n",
      "\n",
      "                          DeadlineHookload  MotorTorqueA  MotorTorqueB  \\\n",
      "SelectedHookloadFiltered          0.998404      0.995558      0.995739   \n",
      "TravBlockHookload                 0.975663      0.972481      0.972689   \n",
      "DeadlineHookload                  1.000000      0.997079      0.997027   \n",
      "MotorTorqueA                      0.997079      1.000000      0.999867   \n",
      "MotorTorqueB                      0.997027      0.999867      1.000000   \n",
      "MotorTorqueD                      0.997008      0.999602      0.999518   \n",
      "ElevatorPosition                  0.017389      0.042627      0.041449   \n",
      "DWBreaksOn                       -0.099163     -0.099167     -0.099754   \n",
      "MotorASpeed                      -0.041318     -0.032941     -0.034070   \n",
      "CompLoadFluidIndicator           -0.194989     -0.186625     -0.186287   \n",
      "\n",
      "                          MotorTorqueD  ElevatorPosition  DWBreaksOn  \\\n",
      "SelectedHookloadFiltered      0.995594          0.018461   -0.104058   \n",
      "TravBlockHookload             0.972433          0.018200   -0.109107   \n",
      "DeadlineHookload              0.997008          0.017389   -0.099163   \n",
      "MotorTorqueA                  0.999602          0.042627   -0.099167   \n",
      "MotorTorqueB                  0.999518          0.041449   -0.099754   \n",
      "MotorTorqueD                  1.000000          0.040457   -0.099907   \n",
      "ElevatorPosition              0.040457          1.000000    0.144157   \n",
      "DWBreaksOn                   -0.099907          0.144157    1.000000   \n",
      "MotorASpeed                  -0.034333          0.107030    0.606598   \n",
      "CompLoadFluidIndicator       -0.183770          0.054793    0.253668   \n",
      "\n",
      "                          MotorASpeed  CompLoadFluidIndicator  \n",
      "SelectedHookloadFiltered    -0.047342               -0.193991  \n",
      "TravBlockHookload           -0.050003               -0.203401  \n",
      "DeadlineHookload            -0.041318               -0.194989  \n",
      "MotorTorqueA                -0.032941               -0.186625  \n",
      "MotorTorqueB                -0.034070               -0.186287  \n",
      "MotorTorqueD                -0.034333               -0.183770  \n",
      "ElevatorPosition             0.107030                0.054793  \n",
      "DWBreaksOn                   0.606598                0.253668  \n",
      "MotorASpeed                  1.000000                0.157354  \n",
      "CompLoadFluidIndicator       0.157354                1.000000  \n",
      "(10, 10)\n",
      "<class 'pandas.core.frame.DataFrame'>\n"
     ]
    },
    {
     "data": {
      "text/plain": [
       "<matplotlib.axes._subplots.AxesSubplot at 0x268b8ac2108>"
      ]
     },
     "execution_count": 4,
     "metadata": {},
     "output_type": "execute_result"
    },
    {
     "data": {
      "image/png": "[encoded data removed]",
      "text/plain": [
       "<Figure size 1440x1440 with 2 Axes>"
      ]
     },
     "metadata": {
      "needs_background": "light"
     },
     "output_type": "display_data"
    }
   ],
   "source": [
    "train = pd.read_csv( r\"Springleaf_Marketing_Response\\data.csv\", low_memory=False)\n",
    "del train['BlockSpeed']\n",
    "del train['MotorTorqueE']\n",
    "del train['MotorTorqueF']\n",
    "\n",
    "train = train.iloc[:, 0:10]\n",
    "corrMatrix = train.corr()\n",
    "print (corrMatrix)\n",
    "\n",
    "print (corrMatrix.shape)\n",
    "\n",
    "print (type (corrMatrix))\n",
    "\n",
    "mask = np.zeros_like(corrMatrix, dtype=np.bool)\n",
    "mask[np.triu_indices_from(mask)] = True\n",
    " \n",
    "# Set up the matplotlib figure\n",
    "f, ax = plt.subplots(figsize=(20, 20))\n",
    " \n",
    "# Generate a custom diverging colormap\n",
    "cmap = sns.diverging_palette(220, 10, as_cmap=True)\n",
    " \n",
    "# Draw the heatmap with the mask and correct aspect ratio\n",
    "sns.heatmap(corrMatrix, annot=True, mask=mask, cmap=\"RdYlBu\", vmin=-1, vmax=1, center=0,\n",
    "            square=True, linewidths=.5, cbar_kws={\"shrink\": .5})\n",
    "\n",
    "\n"
   ]
  },
  {
   "cell_type": "code",
   "execution_count": 5,
   "metadata": {},
   "outputs": [
    {
     "name": "stdout",
     "output_type": "stream",
     "text": [
      "                          SelectedHookloadFiltered  TravBlockHookload  \\\n",
      "SelectedHookloadFiltered                  1.000000           0.977222   \n",
      "TravBlockHookload                         0.977222           1.000000   \n",
      "DeadlineHookload                          0.998404           0.975663   \n",
      "MotorTorqueB                              0.995739           0.972689   \n",
      "MotorTorqueD                              0.995594           0.972433   \n",
      "ElevatorPosition                          0.018461           0.018200   \n",
      "DWBreaksOn                               -0.104058          -0.109107   \n",
      "MotorASpeed                              -0.047342          -0.050003   \n",
      "CompLoadFluidIndicator                   -0.193991          -0.203401   \n",
      "\n",
      "                          DeadlineHookload  MotorTorqueA  MotorTorqueB  \\\n",
      "SelectedHookloadFiltered          0.998404      0.995558      0.995739   \n",
      "TravBlockHookload                 0.975663      0.972481      0.972689   \n",
      "DeadlineHookload                  1.000000      0.997079      0.997027   \n",
      "MotorTorqueB                      0.997027      0.999867      1.000000   \n",
      "MotorTorqueD                      0.997008      0.999602      0.999518   \n",
      "ElevatorPosition                  0.017389      0.042627      0.041449   \n",
      "DWBreaksOn                       -0.099163     -0.099167     -0.099754   \n",
      "MotorASpeed                      -0.041318     -0.032941     -0.034070   \n",
      "CompLoadFluidIndicator           -0.194989     -0.186625     -0.186287   \n",
      "\n",
      "                          MotorTorqueD  ElevatorPosition  DWBreaksOn  \\\n",
      "SelectedHookloadFiltered      0.995594          0.018461   -0.104058   \n",
      "TravBlockHookload             0.972433          0.018200   -0.109107   \n",
      "DeadlineHookload              0.997008          0.017389   -0.099163   \n",
      "MotorTorqueB                  0.999518          0.041449   -0.099754   \n",
      "MotorTorqueD                  1.000000          0.040457   -0.099907   \n",
      "ElevatorPosition              0.040457          1.000000    0.144157   \n",
      "DWBreaksOn                   -0.099907          0.144157    1.000000   \n",
      "MotorASpeed                  -0.034333          0.107030    0.606598   \n",
      "CompLoadFluidIndicator       -0.183770          0.054793    0.253668   \n",
      "\n",
      "                          MotorASpeed  CompLoadFluidIndicator  \n",
      "SelectedHookloadFiltered    -0.047342               -0.193991  \n",
      "TravBlockHookload           -0.050003               -0.203401  \n",
      "DeadlineHookload            -0.041318               -0.194989  \n",
      "MotorTorqueB                -0.034070               -0.186287  \n",
      "MotorTorqueD                -0.034333               -0.183770  \n",
      "ElevatorPosition             0.107030                0.054793  \n",
      "DWBreaksOn                   0.606598                0.253668  \n",
      "MotorASpeed                  1.000000                0.157354  \n",
      "CompLoadFluidIndicator       0.157354                1.000000  \n"
     ]
    }
   ],
   "source": [
    "corrMatrix = corrMatrix.drop(\"MotorTorqueA\", axis=0)\n",
    "print (corrMatrix)"
   ]
  },
  {
   "cell_type": "code",
   "execution_count": 10,
   "metadata": {},
   "outputs": [
    {
     "ename": "SyntaxError",
     "evalue": "invalid syntax (<ipython-input-10-c16c9b26c22f>, line 11)",
     "output_type": "error",
     "traceback": [
      "\u001b[1;36m  File \u001b[1;32m\"<ipython-input-10-c16c9b26c22f>\"\u001b[1;36m, line \u001b[1;32m11\u001b[0m\n\u001b[1;33m    if abs(corrMatrix[col][i] == 1.0) and col <> corrMatrix.keys()[i]:\u001b[0m\n\u001b[1;37m                                               ^\u001b[0m\n\u001b[1;31mSyntaxError\u001b[0m\u001b[1;31m:\u001b[0m invalid syntax\n"
     ]
    }
   ],
   "source": [
    "# print (corrMatrix.keys())\n",
    "\n",
    "# corrTol = 0.8\n",
    "\n",
    "# for col in corrMatrix:\n",
    "#     print (col)\n",
    "#     if col in corrMatrix.keys():\n",
    "#         thisCol = []\n",
    "#         thisVars = []\n",
    "        \n",
    "#         for i in range(len(corrMatrix)):\n",
    "#             if abs(corrMatrix[col][i]) == 1.0 and col != corrMatrix.keys()[i]:\n",
    "#                 thisCorr = 0\n",
    "#             else:\n",
    "#                 thisCorr = (1 if abs(corrMatrix[col][i]) > corrTol else -1) * abs(temp[corrMatrix.keys()[i]])\n",
    "            \n",
    "#             thisCol.append(thisCorr)\n",
    "#             thisVars.append()\n",
    "\n",
    "#         mask = np.ones(len(thisCol), dtype= bool)\n",
    "#         ctDelCol = 0\n",
    "#         for n, j in enumerate(thisCol):\n",
    "#             mask[n] = not (j != max(thisCol) and j>0)\n",
    "#             if j != max(thisCol) and j>=0:\n",
    "#                 corrMatrix.pop(\"%s\" %thisVars[n])\n",
    "#                 temp.pop(\"%s\" %thisVars[n])\n",
    "#                 ctDelCol += 1\n",
    "                \n",
    "                \n",
    "#         corrMatrix = corrMatrix[mask]      \n",
    "        \n",
    "#         for i, val in enumerate (w):\n",
    "#             if val== min(w):\n",
    "#             for j, vec in enumerate (v[:, j]):\n",
    "#                 if abs(vec) == max(abs(v[:, i])):\n",
    "#                     mask = np.ones(len(corrMatrix.keys()))\n",
    "#                     for n, col in enumerate (corrMatrix.keys()):\n",
    "#                         mask[n] = n!=j\n",
    "#                     corrMatrix = corrMatrix[mask]\n",
    "#                     corrMatrix.pop(cols[j])\n",
    "                    \n",
    "        "
   ]
  },
  {
   "cell_type": "code",
   "execution_count": 6,
   "metadata": {},
   "outputs": [
    {
     "name": "stdout",
     "output_type": "stream",
     "text": [
      "9\n"
     ]
    },
    {
     "ename": "LinAlgError",
     "evalue": "Last 2 dimensions of the array must be square",
     "output_type": "error",
     "traceback": [
      "\u001b[1;31m---------------------------------------------------------------------------\u001b[0m",
      "\u001b[1;31mLinAlgError\u001b[0m                               Traceback (most recent call last)",
      "\u001b[1;32m<ipython-input-6-a73260068fc7>\u001b[0m in \u001b[0;36m<module>\u001b[1;34m\u001b[0m\n\u001b[0;32m      2\u001b[0m \u001b[0mprint\u001b[0m \u001b[1;33m(\u001b[0m\u001b[0mct\u001b[0m\u001b[1;33m)\u001b[0m\u001b[1;33m\u001b[0m\u001b[1;33m\u001b[0m\u001b[0m\n\u001b[0;32m      3\u001b[0m \u001b[1;33m\u001b[0m\u001b[0m\n\u001b[1;32m----> 4\u001b[1;33m \u001b[0mw\u001b[0m\u001b[1;33m,\u001b[0m \u001b[0mv\u001b[0m \u001b[1;33m=\u001b[0m\u001b[0mnp\u001b[0m\u001b[1;33m.\u001b[0m\u001b[0mlinalg\u001b[0m\u001b[1;33m.\u001b[0m\u001b[0meig\u001b[0m\u001b[1;33m(\u001b[0m\u001b[0mcorrMatrix\u001b[0m\u001b[1;33m)\u001b[0m\u001b[1;33m\u001b[0m\u001b[1;33m\u001b[0m\u001b[0m\n\u001b[0m\u001b[0;32m      5\u001b[0m \u001b[1;31m# print (w)\u001b[0m\u001b[1;33m\u001b[0m\u001b[1;33m\u001b[0m\u001b[1;33m\u001b[0m\u001b[0m\n\u001b[0;32m      6\u001b[0m \u001b[1;31m# print (v)\u001b[0m\u001b[1;33m\u001b[0m\u001b[1;33m\u001b[0m\u001b[1;33m\u001b[0m\u001b[0m\n",
      "\u001b[1;32m~\\Anaconda3\\lib\\site-packages\\numpy\\linalg\\linalg.py\u001b[0m in \u001b[0;36meig\u001b[1;34m(a)\u001b[0m\n\u001b[0;32m   1302\u001b[0m     \u001b[0ma\u001b[0m\u001b[1;33m,\u001b[0m \u001b[0mwrap\u001b[0m \u001b[1;33m=\u001b[0m \u001b[0m_makearray\u001b[0m\u001b[1;33m(\u001b[0m\u001b[0ma\u001b[0m\u001b[1;33m)\u001b[0m\u001b[1;33m\u001b[0m\u001b[1;33m\u001b[0m\u001b[0m\n\u001b[0;32m   1303\u001b[0m     \u001b[0m_assertRankAtLeast2\u001b[0m\u001b[1;33m(\u001b[0m\u001b[0ma\u001b[0m\u001b[1;33m)\u001b[0m\u001b[1;33m\u001b[0m\u001b[1;33m\u001b[0m\u001b[0m\n\u001b[1;32m-> 1304\u001b[1;33m     \u001b[0m_assertNdSquareness\u001b[0m\u001b[1;33m(\u001b[0m\u001b[0ma\u001b[0m\u001b[1;33m)\u001b[0m\u001b[1;33m\u001b[0m\u001b[1;33m\u001b[0m\u001b[0m\n\u001b[0m\u001b[0;32m   1305\u001b[0m     \u001b[0m_assertFinite\u001b[0m\u001b[1;33m(\u001b[0m\u001b[0ma\u001b[0m\u001b[1;33m)\u001b[0m\u001b[1;33m\u001b[0m\u001b[1;33m\u001b[0m\u001b[0m\n\u001b[0;32m   1306\u001b[0m     \u001b[0mt\u001b[0m\u001b[1;33m,\u001b[0m \u001b[0mresult_t\u001b[0m \u001b[1;33m=\u001b[0m \u001b[0m_commonType\u001b[0m\u001b[1;33m(\u001b[0m\u001b[0ma\u001b[0m\u001b[1;33m)\u001b[0m\u001b[1;33m\u001b[0m\u001b[1;33m\u001b[0m\u001b[0m\n",
      "\u001b[1;32m~\\Anaconda3\\lib\\site-packages\\numpy\\linalg\\linalg.py\u001b[0m in \u001b[0;36m_assertNdSquareness\u001b[1;34m(*arrays)\u001b[0m\n\u001b[0;32m    211\u001b[0m         \u001b[0mm\u001b[0m\u001b[1;33m,\u001b[0m \u001b[0mn\u001b[0m \u001b[1;33m=\u001b[0m \u001b[0ma\u001b[0m\u001b[1;33m.\u001b[0m\u001b[0mshape\u001b[0m\u001b[1;33m[\u001b[0m\u001b[1;33m-\u001b[0m\u001b[1;36m2\u001b[0m\u001b[1;33m:\u001b[0m\u001b[1;33m]\u001b[0m\u001b[1;33m\u001b[0m\u001b[1;33m\u001b[0m\u001b[0m\n\u001b[0;32m    212\u001b[0m         \u001b[1;32mif\u001b[0m \u001b[0mm\u001b[0m \u001b[1;33m!=\u001b[0m \u001b[0mn\u001b[0m\u001b[1;33m:\u001b[0m\u001b[1;33m\u001b[0m\u001b[1;33m\u001b[0m\u001b[0m\n\u001b[1;32m--> 213\u001b[1;33m             \u001b[1;32mraise\u001b[0m \u001b[0mLinAlgError\u001b[0m\u001b[1;33m(\u001b[0m\u001b[1;34m'Last 2 dimensions of the array must be square'\u001b[0m\u001b[1;33m)\u001b[0m\u001b[1;33m\u001b[0m\u001b[1;33m\u001b[0m\u001b[0m\n\u001b[0m\u001b[0;32m    214\u001b[0m \u001b[1;33m\u001b[0m\u001b[0m\n\u001b[0;32m    215\u001b[0m \u001b[1;32mdef\u001b[0m \u001b[0m_assertFinite\u001b[0m\u001b[1;33m(\u001b[0m\u001b[1;33m*\u001b[0m\u001b[0marrays\u001b[0m\u001b[1;33m)\u001b[0m\u001b[1;33m:\u001b[0m\u001b[1;33m\u001b[0m\u001b[1;33m\u001b[0m\u001b[0m\n",
      "\u001b[1;31mLinAlgError\u001b[0m: Last 2 dimensions of the array must be square"
     ]
    }
   ],
   "source": [
    "ct = len (corrMatrix)\n",
    "print (ct)\n",
    "\n",
    "w, v =np.linalg.eig(corrMatrix)\n",
    "# print (w)\n",
    "# print (v)\n",
    "\n",
    "# w1 = (max(w)/min(w)) ** 0.5\n",
    "# print (w1)\n",
    "\n",
    "if ct > 6:\n",
    "    print (\"\\n\" + \"Performing multicollinearity analysis\")\n",
    "    while True:\n",
    "        print (\"***********************\")\n",
    "        ct = ct - 1\n",
    "        cols = corrMatrix.keys()\n",
    "        w, v =np.linalg.eig(corrMatrix)\n",
    "#         print (w)\n",
    "#         print (v)\n",
    "        w1 = (max(w)/min(w)) ** 0.5\n",
    "        print (w1)\n",
    "        if w1 <= 30 or ct == 6:\n",
    "            break\n",
    "            \n",
    "        for i, val in enumerate(w):\n",
    "            print (\"-----------------------------------\")\n",
    "        \n",
    "            \n",
    "            if val== min(w):\n",
    "#                 print (i)\n",
    "#                 print (val)\n",
    "           \n",
    "                for j, vec in enumerate (v[:, i]):\n",
    "                    \n",
    "                  \n",
    "                    if abs(vec) == max(abs(v[:, i])):\n",
    "#                         print (j)\n",
    "#                         print (vec)\n",
    "                        mask = np.ones(len(corrMatrix.keys())).astype(np.int)\n",
    "#                         print (mask)\n",
    "                        for n, col in enumerate (corrMatrix.keys()):\n",
    "                            mask[n] = n!=j\n",
    "#                         print (mask)\n",
    "#                         corrMatrix = corrMatrix[mask]\n",
    "#                         print (corrMatrix)\n",
    "                        print (cols[j])\n",
    "                        corrMatrix = corrMatrix.drop(corrMatrix.keys()[j],axis =0)\n",
    "                        corrMatrix.pop(cols[j])\n",
    "#                         print (corrMatrix.keys())\n",
    "                        print (corrMatrix)\n",
    "                        \n",
    "                \n",
    "            "
   ]
  },
  {
   "cell_type": "code",
   "execution_count": 43,
   "metadata": {},
   "outputs": [
    {
     "data": {
      "text/plain": [
       "<matplotlib.axes._subplots.AxesSubplot at 0x21e4668abc8>"
      ]
     },
     "execution_count": 43,
     "metadata": {},
     "output_type": "execute_result"
    },
    {
     "data": {
      "image/png": "[encoded data removed]",
      "text/plain": [
       "<Figure size 432x288 with 1 Axes>"
      ]
     },
     "metadata": {
      "needs_background": "light"
     },
     "output_type": "display_data"
    }
   ],
   "source": [
    "sns.violinplot(x=train.SelectedHookloadFiltered )"
   ]
  },
  {
   "cell_type": "code",
   "execution_count": 34,
   "metadata": {},
   "outputs": [
    {
     "name": "stdout",
     "output_type": "stream",
     "text": [
      "[[-0.37135417 -0.4106736  -0.34100633 ...  2.62505411  4.3275019\n",
      "   1.19971308]\n",
      " [-0.37734139 -0.38586218 -0.37203763 ...  2.62505411  4.3275019\n",
      "   1.17402105]\n",
      " [-0.37750617 -0.38586218 -0.37191191 ...  2.62505411  4.3275019\n",
      "   1.16112505]\n",
      " ...\n",
      " [-0.34289185 -0.35428424 -0.25638279 ... -0.38094453 -0.2310802\n",
      "   1.46453087]\n",
      " [-0.38545834 -0.39488453 -0.37088088 ... -0.38094453 -0.2310802\n",
      "  -0.25973389]\n",
      " [-0.38211601 -0.3993957  -0.37088088 ... -0.38094453 -0.2310802\n",
      "  -0.25973389]]\n",
      "(434, 10)\n"
     ]
    },
    {
     "data": {
      "text/plain": [
       "Text(0.5, 0, 'Principle component')"
      ]
     },
     "execution_count": 34,
     "metadata": {},
     "output_type": "execute_result"
    },
    {
     "data": {
      "image/png": "[encoded data removed]",
      "text/plain": [
       "<Figure size 864x648 with 2 Axes>"
      ]
     },
     "metadata": {
      "needs_background": "light"
     },
     "output_type": "display_data"
    }
   ],
   "source": [
    "from sklearn.decomposition import PCA\n",
    "import pylab as pl\n",
    "train_scaled = sk.preprocessing.scale (train)\n",
    "print (train_scaled)\n",
    "print (train_scaled.shape)\n",
    "pca = PCA().fit(train_scaled)\n",
    "# print (len(pca))\n",
    "\n",
    "pl.figure (figsize =(12,9))\n",
    "ax1 =plt.subplot(111)\n",
    "ax2 = ax1.twinx()\n",
    "ax1.plot(pca.explained_variance_ratio_, linewidth = 2)\n",
    "ax2.plot(pca.explained_variance_ratio_.cumsum(), linewidth = 2, color = 'r')\n",
    "pl.xlabel(\"Principle component\")\n"
   ]
  },
  {
   "cell_type": "code",
   "execution_count": 31,
   "metadata": {},
   "outputs": [
    {
     "name": "stdout",
     "output_type": "stream",
     "text": [
      "(434, 4)\n",
      "[[-1.34796506  4.2087963   3.3553494   0.81070404]\n",
      " [-1.29998476  4.20493886  3.35281281  0.83097705]\n",
      " [-1.29977265  4.20065479  3.3515059   0.84304411]\n",
      " ...\n",
      " [-0.77065744  0.24157354 -0.80120365 -1.45977327]\n",
      " [-0.84643238 -0.29635985 -1.14768773  0.158     ]\n",
      " [-0.87913156 -0.29961663 -1.14803371  0.16063516]]\n"
     ]
    }
   ],
   "source": [
    "reduced_data = PCA(n_components = 4).fit_transform(train_scaled)\n",
    "print (reduced_data.shape)\n",
    "print (reduced_data)"
   ]
  },
  {
   "cell_type": "code",
   "execution_count": 38,
   "metadata": {},
   "outputs": [
    {
     "name": "stdout",
     "output_type": "stream",
     "text": [
      "(434, 4)\n",
      "[[ 3.47627801 -0.3827035  -2.15815183  1.19971308]\n",
      " [ 3.47627801 -0.36398236 -2.15815183  1.17402105]\n",
      " [ 3.47627801 -0.36440649 -2.15815183  1.16112505]\n",
      " ...\n",
      " [-0.30601236 -0.27450289  0.856299    1.46453087]\n",
      " [-0.30601236 -0.37478854  1.0291465  -0.25973389]\n",
      " [-0.30601236 -0.38820936  1.0291465  -0.25973389]]\n",
      "(434, 10)\n",
      "[[-0.37135417 -0.4106736  -0.34100633 ...  2.62505411  4.3275019\n",
      "   1.19971308]\n",
      " [-0.37734139 -0.38586218 -0.37203763 ...  2.62505411  4.3275019\n",
      "   1.17402105]\n",
      " [-0.37750617 -0.38586218 -0.37191191 ...  2.62505411  4.3275019\n",
      "   1.16112505]\n",
      " ...\n",
      " [-0.34289185 -0.35428424 -0.25638279 ... -0.38094453 -0.2310802\n",
      "   1.46453087]\n",
      " [-0.38545834 -0.39488453 -0.37088088 ... -0.38094453 -0.2310802\n",
      "  -0.25973389]\n",
      " [-0.38211601 -0.3993957  -0.37088088 ... -0.38094453 -0.2310802\n",
      "  -0.25973389]]\n"
     ]
    },
    {
     "ename": "AttributeError",
     "evalue": "'numpy.ndarray' object has no attribute 'type'",
     "output_type": "error",
     "traceback": [
      "\u001b[1;31m---------------------------------------------------------------------------\u001b[0m",
      "\u001b[1;31mAttributeError\u001b[0m                            Traceback (most recent call last)",
      "\u001b[1;32m<ipython-input-38-e83d7a10796e>\u001b[0m in \u001b[0;36m<module>\u001b[1;34m\u001b[0m\n\u001b[0;32m      9\u001b[0m \u001b[0mprint\u001b[0m \u001b[1;33m(\u001b[0m\u001b[0mtrain_scaled\u001b[0m\u001b[1;33m)\u001b[0m\u001b[1;33m\u001b[0m\u001b[1;33m\u001b[0m\u001b[0m\n\u001b[0;32m     10\u001b[0m \u001b[1;33m\u001b[0m\u001b[0m\n\u001b[1;32m---> 11\u001b[1;33m \u001b[0mprint\u001b[0m \u001b[1;33m(\u001b[0m\u001b[0mtrain_varClus\u001b[0m\u001b[1;33m.\u001b[0m\u001b[0mtype\u001b[0m\u001b[1;33m)\u001b[0m\u001b[1;33m\u001b[0m\u001b[1;33m\u001b[0m\u001b[0m\n\u001b[0m",
      "\u001b[1;31mAttributeError\u001b[0m: 'numpy.ndarray' object has no attribute 'type'"
     ]
    }
   ],
   "source": [
    "from sklearn.cluster import FeatureAgglomeration\n",
    "varClus = FeatureAgglomeration(n_clusters = 4)\n",
    "varClus.fit(train_scaled)\n",
    "train_varClus = varClus.fit_transform(train_scaled)\n",
    "print (train_varClus.shape)\n",
    "print (train_varClus)\n",
    "\n",
    "print (train_scaled.shape)\n",
    "print (train_scaled)\n"
   ]
  },
  {
   "cell_type": "code",
   "execution_count": 44,
   "metadata": {},
   "outputs": [
    {
     "name": "stdout",
     "output_type": "stream",
     "text": [
      "(434, 5)\n",
      "          0         1         2         3         4\n",
      "0  1.000000  0.079480  0.140130  0.229296  0.084462\n",
      "1  0.079480  1.000000  0.029892  0.192336  0.998035\n",
      "2  0.140130  0.029892  1.000000  0.054793  0.018461\n",
      "3  0.229296  0.192336  0.054793  1.000000  0.193991\n",
      "4  0.084462  0.998035  0.018461  0.193991  1.000000\n"
     ]
    }
   ],
   "source": [
    "pd_train_varClus = pd.DataFrame(train_varClus)\n",
    "pd_train_varClus['4'] = train.iloc[:,0]\n",
    "print (pd_train_varClus.shape)\n",
    "\n",
    "print (abs(pd_train_varClus.corr()))\n",
    "\n",
    "# for var in range (4):\n",
    "#     y = train.iloc[:,0].values\n",
    "#     print (abs(y.corr(train_varClus[:, var])))"
   ]
  },
  {
   "cell_type": "code",
   "execution_count": 50,
   "metadata": {},
   "outputs": [
    {
     "name": "stderr",
     "output_type": "stream",
     "text": [
      "C:\\Users\\YaliRen\\Anaconda3\\lib\\site-packages\\sklearn\\linear_model\\logistic.py:432: FutureWarning: Default solver will be changed to 'lbfgs' in 0.22. Specify a solver to silence this warning.\n",
      "  FutureWarning)\n"
     ]
    },
    {
     "ename": "ValueError",
     "evalue": "bad input shape ()",
     "output_type": "error",
     "traceback": [
      "\u001b[1;31m---------------------------------------------------------------------------\u001b[0m",
      "\u001b[1;31mValueError\u001b[0m                                Traceback (most recent call last)",
      "\u001b[1;32m<ipython-input-50-4a62e3ff9678>\u001b[0m in \u001b[0;36m<module>\u001b[1;34m\u001b[0m\n\u001b[0;32m      1\u001b[0m \u001b[0mlogistic_model\u001b[0m \u001b[1;33m=\u001b[0m \u001b[0mLogisticRegression\u001b[0m\u001b[1;33m(\u001b[0m\u001b[0mpenalty\u001b[0m \u001b[1;33m=\u001b[0m \u001b[1;34m'l1'\u001b[0m\u001b[1;33m,\u001b[0m \u001b[0mrandom_state\u001b[0m \u001b[1;33m=\u001b[0m \u001b[1;36m314\u001b[0m\u001b[1;33m)\u001b[0m\u001b[1;33m\u001b[0m\u001b[1;33m\u001b[0m\u001b[0m\n\u001b[1;32m----> 2\u001b[1;33m \u001b[0mthisLassoFit\u001b[0m \u001b[1;33m=\u001b[0m \u001b[0mlogistic_model\u001b[0m\u001b[1;33m.\u001b[0m\u001b[0mfit\u001b[0m \u001b[1;33m(\u001b[0m\u001b[0mtrain_varClus\u001b[0m\u001b[1;33m,\u001b[0m \u001b[0mtrain\u001b[0m\u001b[1;33m.\u001b[0m\u001b[0miloc\u001b[0m\u001b[1;33m[\u001b[0m\u001b[1;33m:\u001b[0m\u001b[1;33m,\u001b[0m\u001b[1;36m0\u001b[0m\u001b[1;33m]\u001b[0m\u001b[1;33m.\u001b[0m\u001b[0mvalues\u001b[0m\u001b[1;33m[\u001b[0m\u001b[1;36m0\u001b[0m\u001b[1;33m]\u001b[0m\u001b[1;33m)\u001b[0m\u001b[1;33m\u001b[0m\u001b[1;33m\u001b[0m\u001b[0m\n\u001b[0m\u001b[0;32m      3\u001b[0m \u001b[0mprint\u001b[0m \u001b[1;33m(\u001b[0m\u001b[0mthisLassoFit\u001b[0m\u001b[1;33m)\u001b[0m\u001b[1;33m\u001b[0m\u001b[1;33m\u001b[0m\u001b[0m\n",
      "\u001b[1;32m~\\Anaconda3\\lib\\site-packages\\sklearn\\linear_model\\logistic.py\u001b[0m in \u001b[0;36mfit\u001b[1;34m(self, X, y, sample_weight)\u001b[0m\n\u001b[0;32m   1530\u001b[0m \u001b[1;33m\u001b[0m\u001b[0m\n\u001b[0;32m   1531\u001b[0m         X, y = check_X_y(X, y, accept_sparse='csr', dtype=_dtype, order=\"C\",\n\u001b[1;32m-> 1532\u001b[1;33m                          accept_large_sparse=solver != 'liblinear')\n\u001b[0m\u001b[0;32m   1533\u001b[0m         \u001b[0mcheck_classification_targets\u001b[0m\u001b[1;33m(\u001b[0m\u001b[0my\u001b[0m\u001b[1;33m)\u001b[0m\u001b[1;33m\u001b[0m\u001b[1;33m\u001b[0m\u001b[0m\n\u001b[0;32m   1534\u001b[0m         \u001b[0mself\u001b[0m\u001b[1;33m.\u001b[0m\u001b[0mclasses_\u001b[0m \u001b[1;33m=\u001b[0m \u001b[0mnp\u001b[0m\u001b[1;33m.\u001b[0m\u001b[0munique\u001b[0m\u001b[1;33m(\u001b[0m\u001b[0my\u001b[0m\u001b[1;33m)\u001b[0m\u001b[1;33m\u001b[0m\u001b[1;33m\u001b[0m\u001b[0m\n",
      "\u001b[1;32m~\\Anaconda3\\lib\\site-packages\\sklearn\\utils\\validation.py\u001b[0m in \u001b[0;36mcheck_X_y\u001b[1;34m(X, y, accept_sparse, accept_large_sparse, dtype, order, copy, force_all_finite, ensure_2d, allow_nd, multi_output, ensure_min_samples, ensure_min_features, y_numeric, warn_on_dtype, estimator)\u001b[0m\n\u001b[0;32m    722\u001b[0m                         dtype=None)\n\u001b[0;32m    723\u001b[0m     \u001b[1;32melse\u001b[0m\u001b[1;33m:\u001b[0m\u001b[1;33m\u001b[0m\u001b[1;33m\u001b[0m\u001b[0m\n\u001b[1;32m--> 724\u001b[1;33m         \u001b[0my\u001b[0m \u001b[1;33m=\u001b[0m \u001b[0mcolumn_or_1d\u001b[0m\u001b[1;33m(\u001b[0m\u001b[0my\u001b[0m\u001b[1;33m,\u001b[0m \u001b[0mwarn\u001b[0m\u001b[1;33m=\u001b[0m\u001b[1;32mTrue\u001b[0m\u001b[1;33m)\u001b[0m\u001b[1;33m\u001b[0m\u001b[1;33m\u001b[0m\u001b[0m\n\u001b[0m\u001b[0;32m    725\u001b[0m         \u001b[0m_assert_all_finite\u001b[0m\u001b[1;33m(\u001b[0m\u001b[0my\u001b[0m\u001b[1;33m)\u001b[0m\u001b[1;33m\u001b[0m\u001b[1;33m\u001b[0m\u001b[0m\n\u001b[0;32m    726\u001b[0m     \u001b[1;32mif\u001b[0m \u001b[0my_numeric\u001b[0m \u001b[1;32mand\u001b[0m \u001b[0my\u001b[0m\u001b[1;33m.\u001b[0m\u001b[0mdtype\u001b[0m\u001b[1;33m.\u001b[0m\u001b[0mkind\u001b[0m \u001b[1;33m==\u001b[0m \u001b[1;34m'O'\u001b[0m\u001b[1;33m:\u001b[0m\u001b[1;33m\u001b[0m\u001b[1;33m\u001b[0m\u001b[0m\n",
      "\u001b[1;32m~\\Anaconda3\\lib\\site-packages\\sklearn\\utils\\validation.py\u001b[0m in \u001b[0;36mcolumn_or_1d\u001b[1;34m(y, warn)\u001b[0m\n\u001b[0;32m    758\u001b[0m         \u001b[1;32mreturn\u001b[0m \u001b[0mnp\u001b[0m\u001b[1;33m.\u001b[0m\u001b[0mravel\u001b[0m\u001b[1;33m(\u001b[0m\u001b[0my\u001b[0m\u001b[1;33m)\u001b[0m\u001b[1;33m\u001b[0m\u001b[1;33m\u001b[0m\u001b[0m\n\u001b[0;32m    759\u001b[0m \u001b[1;33m\u001b[0m\u001b[0m\n\u001b[1;32m--> 760\u001b[1;33m     \u001b[1;32mraise\u001b[0m \u001b[0mValueError\u001b[0m\u001b[1;33m(\u001b[0m\u001b[1;34m\"bad input shape {0}\"\u001b[0m\u001b[1;33m.\u001b[0m\u001b[0mformat\u001b[0m\u001b[1;33m(\u001b[0m\u001b[0mshape\u001b[0m\u001b[1;33m)\u001b[0m\u001b[1;33m)\u001b[0m\u001b[1;33m\u001b[0m\u001b[1;33m\u001b[0m\u001b[0m\n\u001b[0m\u001b[0;32m    761\u001b[0m \u001b[1;33m\u001b[0m\u001b[0m\n\u001b[0;32m    762\u001b[0m \u001b[1;33m\u001b[0m\u001b[0m\n",
      "\u001b[1;31mValueError\u001b[0m: bad input shape ()"
     ]
    }
   ],
   "source": []
  },
  {
   "cell_type": "code",
   "execution_count": 63,
   "metadata": {},
   "outputs": [
    {
     "name": "stdout",
     "output_type": "stream",
     "text": [
      "[1, 1, 1, 1, 0, 0, 0, 0, 1, 0, 1, 0, 1, 0, 1, 0, 1, 1, 1, 1, 1, 0, 0, 1, 1, 0, 0, 0, 1, 1, 1, 0, 0, 0, 1, 1, 1, 1, 1, 1, 0, 1, 1, 1, 1, 0, 0, 0, 0, 0, 0, 0, 1, 1, 1, 0, 0, 0, 1, 0, 0, 0, 0, 1, 1, 0, 0, 1, 1, 0, 1, 1, 1, 0, 0, 0, 1, 1, 0, 1, 0, 1, 1, 1, 1, 1, 1, 1, 0, 0, 0, 0, 1, 0, 0, 0, 1, 1, 1, 0, 1, 0, 1, 0, 1, 0, 1, 0, 0, 0, 1, 1, 0, 0, 0, 1, 0, 0, 1, 1, 0, 0, 0, 1, 1, 1, 0, 1, 1, 1, 0, 1, 0, 0, 0, 0, 1, 1, 1, 0, 0, 1, 1, 0, 1, 1, 0, 0, 1, 1, 1, 1, 1, 0, 0, 1, 0, 0, 0, 0, 1, 0, 0, 0, 0, 1, 0, 1, 0, 1, 1, 1, 1, 1, 1, 1, 0, 1, 0, 0, 0, 1, 0, 0, 1, 1, 1, 1, 1, 0, 1, 0, 1, 1, 0, 0, 0, 0, 1, 1, 0, 0, 0, 0, 0, 0, 1, 1, 1, 1, 1, 0, 1, 0, 0, 1, 0, 0, 1, 1, 0, 0, 0, 0, 0, 1, 1, 1, 1, 1, 0, 0, 1, 1, 1, 1, 1, 1, 1, 0, 0, 0, 0, 0, 0, 1, 1, 1, 1, 0, 1, 1, 1, 0, 1, 1, 1, 0, 0, 1, 1, 0, 0, 1, 0, 0, 1, 1, 1, 0, 1, 1, 0, 1, 0, 1, 1, 1, 1, 1, 1, 1, 1, 0, 0, 0, 0, 1, 0, 0, 0, 1, 0, 0, 0, 1, 0, 1, 1, 0, 1, 0, 1, 0, 1, 1, 1, 0, 0, 0, 0, 0, 0, 0, 0, 0, 1, 1, 0, 0, 0, 0, 1, 0, 0, 1, 1, 0, 1, 1, 0, 0, 0, 1, 1, 1, 0, 0, 1, 0, 0, 0, 0, 0, 0, 1, 1, 1, 1, 1, 0, 1, 1, 0, 0, 1, 1, 0, 1, 1, 0, 0, 1, 0, 0, 1, 0, 1, 1, 0, 1, 1, 0, 0, 1, 0, 0, 0, 1, 0, 0, 0, 1, 0, 1, 1, 0, 1, 0, 0, 0, 0, 0, 1, 0, 1, 1, 1, 0, 1, 0, 0, 0, 0, 0, 1, 0, 0, 0, 1, 1, 0, 0, 0, 1, 0, 0, 0, 0, 1, 1, 0, 1, 0, 1, 0, 1, 1, 1, 0, 0, 0, 1, 0]\n"
     ]
    }
   ],
   "source": [
    "# import random\n",
    "# y = random.choice([0, 1], 434)\n",
    "# print (y)\n",
    "\n",
    "y =[]\n",
    "for i in range(434):\n",
    "    y.append(random.randint(0,1))\n",
    "print (y)"
   ]
  },
  {
   "cell_type": "code",
   "execution_count": 65,
   "metadata": {},
   "outputs": [
    {
     "name": "stdout",
     "output_type": "stream",
     "text": [
      "0      1\n",
      "1      1\n",
      "2      1\n",
      "3      1\n",
      "4      0\n",
      "      ..\n",
      "429    0\n",
      "430    0\n",
      "431    0\n",
      "432    1\n",
      "433    0\n",
      "Length: 434, dtype: int64\n"
     ]
    }
   ],
   "source": [
    "y_series=pd.Series(y)\n",
    "print (y_series)"
   ]
  },
  {
   "cell_type": "code",
   "execution_count": 66,
   "metadata": {},
   "outputs": [
    {
     "name": "stdout",
     "output_type": "stream",
     "text": [
      "LogisticRegression(C=1.0, class_weight=None, dual=False, fit_intercept=True,\n",
      "                   intercept_scaling=1, l1_ratio=None, max_iter=100,\n",
      "                   multi_class='warn', n_jobs=None, penalty='l1',\n",
      "                   random_state=314, solver='warn', tol=0.0001, verbose=0,\n",
      "                   warm_start=False)\n"
     ]
    },
    {
     "name": "stderr",
     "output_type": "stream",
     "text": [
      "C:\\Users\\YaliRen\\Anaconda3\\lib\\site-packages\\sklearn\\linear_model\\logistic.py:432: FutureWarning: Default solver will be changed to 'lbfgs' in 0.22. Specify a solver to silence this warning.\n",
      "  FutureWarning)\n"
     ]
    }
   ],
   "source": [
    "logistic_model = LogisticRegression(penalty = 'l1', random_state = 314)\n",
    "thisLassoFit = logistic_model.fit (train_varClus, y_series)\n",
    "print (thisLassoFit)"
   ]
  },
  {
   "cell_type": "code",
   "execution_count": 82,
   "metadata": {},
   "outputs": [
    {
     "name": "stdout",
     "output_type": "stream",
     "text": [
      "[[0.07758752 0.04714438 0.04045339 0.14414509]]\n"
     ]
    }
   ],
   "source": [
    "thisLassoFit.coef_[0]\n",
    "print (thisLassoFit.coef_)"
   ]
  },
  {
   "cell_type": "code",
   "execution_count": 84,
   "metadata": {},
   "outputs": [
    {
     "name": "stdout",
     "output_type": "stream",
     "text": [
      "[[0.07758752]\n",
      " [0.04714438]\n",
      " [0.04045339]\n",
      " [0.14414509]]\n",
      "Index(['SelectedHookloadFiltered', 'TravBlockHookload', 'DeadlineHookload',\n",
      "       'MotorTorqueA'],\n",
      "      dtype='object')\n",
      "                          0         1\n",
      "0  SelectedHookloadFiltered  0.077588\n",
      "1         TravBlockHookload  0.047144\n",
      "2          DeadlineHookload  0.040453\n",
      "3              MotorTorqueA  0.144145\n"
     ]
    }
   ],
   "source": [
    "model_coff = np.transpose(thisLassoFit.coef_)[np.where(thisLassoFit.coef_ != 0)[1]]\n",
    "print (model_coff)\n",
    "\n",
    "thisLassoPreds = train.keys()[np.where(thisLassoFit.coef_ != 0)[1]]\n",
    "print (thisLassoPreds)\n",
    "\n",
    "print (pd.DataFrame(zip(thisLassoPreds,model_coff[:, 0])))\n",
    "\n",
    "# model_coff = np.transpose(thisLassoFit.coef_)"
   ]
  },
  {
   "cell_type": "code",
   "execution_count": 88,
   "metadata": {},
   "outputs": [
    {
     "name": "stdout",
     "output_type": "stream",
     "text": [
      "[0.01393141 0.4668922  0.23466769 0.2845087 ]\n",
      "[1 3 2 0]\n"
     ]
    },
    {
     "ename": "NameError",
     "evalue": "name 'orderedParams' is not defined",
     "output_type": "error",
     "traceback": [
      "\u001b[1;31m---------------------------------------------------------------------------\u001b[0m",
      "\u001b[1;31mNameError\u001b[0m                                 Traceback (most recent call last)",
      "\u001b[1;32m<ipython-input-88-f1e10096054c>\u001b[0m in \u001b[0;36m<module>\u001b[1;34m\u001b[0m\n\u001b[0;32m      8\u001b[0m \u001b[0mprint\u001b[0m \u001b[1;33m(\u001b[0m\u001b[0mindices\u001b[0m\u001b[1;33m)\u001b[0m\u001b[1;33m\u001b[0m\u001b[1;33m\u001b[0m\u001b[0m\n\u001b[0;32m      9\u001b[0m \u001b[1;33m\u001b[0m\u001b[0m\n\u001b[1;32m---> 10\u001b[1;33m \u001b[0morderedParams\u001b[0m\u001b[1;33m[\u001b[0m\u001b[1;34m'DTree'\u001b[0m\u001b[1;33m]\u001b[0m \u001b[1;33m=\u001b[0m \u001b[1;33m{\u001b[0m\u001b[1;33m}\u001b[0m\u001b[1;33m\u001b[0m\u001b[1;33m\u001b[0m\u001b[0m\n\u001b[0m\u001b[0;32m     11\u001b[0m \u001b[0morderedImporances\u001b[0m \u001b[1;33m=\u001b[0m \u001b[1;33m{\u001b[0m\u001b[1;33m}\u001b[0m\u001b[1;33m\u001b[0m\u001b[1;33m\u001b[0m\u001b[0m\n\u001b[0;32m     12\u001b[0m \u001b[1;33m\u001b[0m\u001b[0m\n",
      "\u001b[1;31mNameError\u001b[0m: name 'orderedParams' is not defined"
     ]
    }
   ],
   "source": [
    "from sklearn.ensemble import ExtraTreesClassifier\n",
    "\n",
    "clf = ExtraTreesClassifier(n_estimators=100)\n",
    "X_new = clf.fit(train_varClus, y_series)\n",
    "imps_moistAll=X_new.feature_importances_\n",
    "print (imps_moistAll)\n",
    "indices=np.argsort(abs(imps_moistAll))[::-1]\n",
    "print (indices)\n",
    "\n",
    "orderedParams['DTree'] = {}\n",
    "orderedImportances = {}\n",
    "\n",
    "for rank, ind in enumerate (indices):\n",
    "    var = train.keys()[ind]\n",
    "    orderedParams['DTree'][rank] = var\n",
    "    orderedImportances[var] = imps_moistAll[ind]\n",
    "    \n",
    "print (orderedParams['DTree'] )\n",
    "print (orderedImporances )"
   ]
  },
  {
   "cell_type": "code",
   "execution_count": 91,
   "metadata": {},
   "outputs": [
    {
     "name": "stdout",
     "output_type": "stream",
     "text": [
      "(434, 9)\n",
      "[[-0.39090565  1.19971308 -2.15815183 ... -0.34100633 -0.37135417\n",
      "  -0.39137562]\n",
      " [-0.34022774  1.17402105 -2.15815183 ... -0.37203763 -0.37734139\n",
      "  -0.36819747]\n",
      " [-0.34022774  1.16112505 -2.15815183 ... -0.37191191 -0.37750617\n",
      "  -0.37070321]\n",
      " ...\n",
      " [-0.23310461  1.46453087  0.856299   ... -0.25638279 -0.34289185\n",
      "  -0.22724924]\n",
      " [-0.3643418  -0.25973389  1.0291465  ... -0.37088088 -0.38545834\n",
      "  -0.3688239 ]\n",
      " [-0.3930572  -0.25973389  1.0291465  ... -0.37088088 -0.38211601\n",
      "  -0.39074918]]\n",
      "(434, 10)\n",
      "[[-0.37135417 -0.4106736  -0.34100633 ...  2.62505411  4.3275019\n",
      "   1.19971308]\n",
      " [-0.37734139 -0.38586218 -0.37203763 ...  2.62505411  4.3275019\n",
      "   1.17402105]\n",
      " [-0.37750617 -0.38586218 -0.37191191 ...  2.62505411  4.3275019\n",
      "   1.16112505]\n",
      " ...\n",
      " [-0.34289185 -0.35428424 -0.25638279 ... -0.38094453 -0.2310802\n",
      "   1.46453087]\n",
      " [-0.38545834 -0.39488453 -0.37088088 ... -0.38094453 -0.2310802\n",
      "  -0.25973389]\n",
      " [-0.38211601 -0.3993957  -0.37088088 ... -0.38094453 -0.2310802\n",
      "  -0.25973389]]\n"
     ]
    }
   ],
   "source": [
    "from sklearn.cluster import FeatureAgglomeration\n",
    "varClus = FeatureAgglomeration(n_clusters = 9)\n",
    "varClus.fit(train_scaled)\n",
    "train_varClus = varClus.fit_transform(train_scaled)\n",
    "print (train_varClus.shape)\n",
    "print (train_varClus)\n",
    "\n",
    "print (train_scaled.shape)\n",
    "print (train_scaled)"
   ]
  },
  {
   "cell_type": "code",
   "execution_count": 92,
   "metadata": {},
   "outputs": [
    {
     "name": "stdout",
     "output_type": "stream",
     "text": [
      "[0.1504559  0.13230267 0.11834282 0.00421154 0.00886467 0.12733247\n",
      " 0.1493096  0.15655989 0.15262046]\n",
      "[7 8 0 6 1 5 2 4 3]\n",
      "['DWBreaksOn', 'MotorASpeed', 'SelectedHookloadFiltered', 'ElevatorPosition', 'TravBlockHookload', 'MotorTorqueD', 'DeadlineHookload', 'MotorTorqueB', 'MotorTorqueA']\n"
     ]
    }
   ],
   "source": [
    "from sklearn.ensemble import ExtraTreesClassifier\n",
    "\n",
    "clf = ExtraTreesClassifier(n_estimators=100)\n",
    "X_new = clf.fit(train_varClus, y_series)\n",
    "imps_moistAll=X_new.feature_importances_\n",
    "print (imps_moistAll)\n",
    "indices=np.argsort(abs(imps_moistAll))[::-1]\n",
    "print (indices)\n",
    "\n",
    "\n",
    "sortedVars = []\n",
    "\n",
    "for rank, ind in enumerate (indices):\n",
    "    var = train.keys()[ind]\n",
    "    sortedVars.append(var)\n",
    "\n",
    "print (sortedVars)"
   ]
  },
  {
   "cell_type": "code",
   "execution_count": 93,
   "metadata": {},
   "outputs": [
    {
     "name": "stdout",
     "output_type": "stream",
     "text": [
      "0 DWBreaksOn\n",
      "1 MotorASpeed\n",
      "2 SelectedHookloadFiltered\n",
      "3 ElevatorPosition\n",
      "4 TravBlockHookload\n",
      "5 MotorTorqueD\n",
      "6 DeadlineHookload\n",
      "7 MotorTorqueB\n",
      "8 MotorTorqueA\n"
     ]
    }
   ],
   "source": [
    "j-dropCt = 0\n",
    "maxSteps = 6\n",
    "\n",
    "for j, var in enumerate (sortedVars):\n",
    "    print (j, var)\n",
    "    okayToAdd = 0"
   ]
  },
  {
   "cell_type": "code",
   "execution_count": null,
   "metadata": {},
   "outputs": [],
   "source": []
  }
 ],
 "metadata": {
  "kernelspec": {
   "display_name": "Python 3",
   "language": "python",
   "name": "python3"
  },
  "language_info": {
   "codemirror_mode": {
    "name": "ipython",
    "version": 3
   },
   "file_extension": ".py",
   "mimetype": "text/x-python",
   "name": "python",
   "nbconvert_exporter": "python",
   "pygments_lexer": "ipython3",
   "version": "3.7.4"
  }
 },
 "nbformat": 4,
 "nbformat_minor": 2
}
