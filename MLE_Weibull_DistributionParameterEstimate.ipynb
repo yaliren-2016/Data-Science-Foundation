{
 "cells": [
  {
   "cell_type": "code",
   "execution_count": 1,
   "metadata": {},
   "outputs": [
    {
     "name": "stdout",
     "output_type": "stream",
     "text": [
      "Automatically created module for IPython interactive environment\n",
      "80 [[5.71874087e-04]\n",
      " [9.14413867e-02]\n",
      " [9.68347894e-02]\n",
      " [1.36937966e-01]\n",
      " [1.95273916e-01]\n",
      " [2.49767295e-01]\n",
      " [2.66812726e-01]\n",
      " [4.25221057e-01]\n",
      " [4.61692974e-01]\n",
      " [4.91734169e-01]\n",
      " [5.11672144e-01]\n",
      " [5.16130033e-01]\n",
      " [6.50142861e-01]\n",
      " [6.87373521e-01]\n",
      " [6.96381736e-01]\n",
      " [7.01934693e-01]\n",
      " [7.33642875e-01]\n",
      " [7.33779454e-01]\n",
      " [8.26770986e-01]\n",
      " [8.49152098e-01]\n",
      " [9.31301057e-01]\n",
      " [9.90507445e-01]\n",
      " [1.02226125e+00]\n",
      " [1.05814058e+00]\n",
      " [1.32773330e+00]\n",
      " [1.40221996e+00]\n",
      " [1.43887669e+00]\n",
      " [1.46807074e+00]\n",
      " [1.51166286e+00]\n",
      " [1.56712089e+00]\n",
      " [1.57757816e+00]\n",
      " [1.72780364e+00]\n",
      " [1.73882930e+00]\n",
      " [1.98383737e+00]\n",
      " [1.98838418e+00]\n",
      " [2.07027994e+00]\n",
      " [2.07089635e+00]\n",
      " [2.08511002e+00]\n",
      " [2.08652401e+00]\n",
      " [2.09597257e+00]\n",
      " [2.10553813e+00]\n",
      " [2.23946763e+00]\n",
      " [2.45786580e+00]\n",
      " [2.57444556e+00]\n",
      " [2.66582642e+00]\n",
      " [2.67948203e+00]\n",
      " [2.69408367e+00]\n",
      " [2.79344914e+00]\n",
      " [2.87058803e+00]\n",
      " [2.93277520e+00]\n",
      " [2.94652768e+00]\n",
      " [3.31897323e+00]\n",
      " [3.35233755e+00]\n",
      " [3.39417766e+00]\n",
      " [3.42609750e+00]\n",
      " [3.43250464e+00]\n",
      " [3.45938557e+00]\n",
      " [3.46161308e+00]\n",
      " [3.47200079e+00]\n",
      " [3.49879180e+00]\n",
      " [3.60162247e+00]\n",
      " [3.62998993e+00]\n",
      " [3.74082827e+00]\n",
      " [3.75072157e+00]\n",
      " [3.75406052e+00]\n",
      " [3.94639664e+00]\n",
      " [4.00372284e+00]\n",
      " [4.03695644e+00]\n",
      " [4.17312836e+00]\n",
      " [4.38194576e+00]\n",
      " [4.39058718e+00]\n",
      " [4.39071252e+00]\n",
      " [4.47303332e+00]\n",
      " [4.51700958e+00]\n",
      " [4.54297752e+00]\n",
      " [4.63754290e+00]\n",
      " [4.72297378e+00]\n",
      " [4.78944765e+00]\n",
      " [4.84130788e+00]\n",
      " [4.94430544e+00]]\n",
      "80 [-1.1493464   0.09131401  0.09668352  0.13651039  0.19403525 -0.12383814\n",
      "  0.26365828  0.41252216  0.44546446  0.47215529 -0.26319138  0.49351799\n",
      "  0.60530013  0.63450933  0.64144608  1.09900119  0.66957978  0.66968122\n",
      "  0.73574834  0.75072053  1.4926134   0.8363043   0.8532893   0.87144496\n",
      "  0.97060533 -0.20183403  0.99131122  0.99472837  0.99825213  0.99999325\n",
      "  1.21570343  0.98769965  0.98591565  0.9159044   0.91406986 -0.51669013\n",
      "  0.8775346   0.87063055  0.86993408  0.86523559  0.37007575  0.78464608\n",
      "  0.63168655  0.53722799  0.45801971  0.08075119  0.43272116  0.34115328\n",
      "  0.26769953  0.20730318  1.34959235 -0.17645185 -0.20918837 -0.24990778\n",
      " -0.28068224 -1.63529379 -0.31247075 -0.31458595 -0.32442911 -0.34965155\n",
      " -0.29371122 -0.46921115 -0.56401144 -0.57215326 -0.57488849 -0.95586361\n",
      " -0.75923066 -0.78043659 -0.85808859 -0.94589863 -0.6730775  -0.94870673\n",
      " -0.97149093 -0.98097408 -0.98568417 -0.20828128 -0.99994398 -0.99703245\n",
      " -0.99170146 -0.9732277 ]\n"
     ]
    },
    {
     "data": {
      "text/plain": [
       "<Figure size 640x480 with 1 Axes>"
      ]
     },
     "metadata": {},
     "output_type": "display_data"
    }
   ],
   "source": [
    "print(__doc__)\n",
    "\n",
    "# Import the necessary modules and libraries\n",
    "import numpy as np\n",
    "from sklearn.tree import DecisionTreeRegressor\n",
    "import matplotlib.pyplot as plt\n",
    "\n",
    "# Create a random dataset\n",
    "rng = np.random.RandomState(1)\n",
    "X = np.sort(5 * rng.rand(80,1), axis=0)\n",
    "print (len(X),X)\n",
    "\n",
    "y = np.sin(X).ravel()\n",
    "y[::5] += 3 * (0.5 - rng.rand(16))\n",
    "print (len(y),y)\n",
    "\n",
    "# Fit regression model\n",
    "regr_1 = DecisionTreeRegressor(max_depth=2)\n",
    "regr_2 = DecisionTreeRegressor(max_depth=5)\n",
    "regr_1.fit(X, y)\n",
    "regr_2.fit(X, y)\n",
    "\n",
    "# Predict\n",
    "X_test = np.arange(0.0, 5.0, 0.01)[:, np.newaxis]\n",
    "y_1 = regr_1.predict(X_test)\n",
    "y_2 = regr_2.predict(X_test)\n",
    "\n",
    "# Plot the results\n",
    "plt.figure()\n",
    "plt.scatter(X, y, s=20, edgecolor=\"black\",\n",
    "            c=\"darkorange\", label=\"data\")\n",
    "plt.plot(X_test, y_1, color=\"cornflowerblue\",\n",
    "         label=\"max_depth=2\", linewidth=2)\n",
    "plt.plot(X_test, y_2, color=\"yellowgreen\", label=\"max_depth=5\", linewidth=2)\n",
    "plt.xlabel(\"data\")\n",
    "plt.ylabel(\"target\")\n",
    "plt.title(\"Decision Tree Regression\")\n",
    "plt.legend()\n",
    "plt.show()"
   ]
  },
  {
   "cell_type": "code",
   "execution_count": 2,
   "metadata": {},
   "outputs": [
    {
     "name": "stdout",
     "output_type": "stream",
     "text": [
      "0.09374376939240969\n",
      "0.25326696895240886\n",
      "0.9320242073261563\n",
      "0.4874949624835633\n",
      "0.48855792028669465\n",
      "0.5046809540349558\n",
      "0.6809998660108632\n",
      "0.058632018604213076\n",
      "0.03655073219610383\n",
      "0.5154443287895218\n",
      "0.6733450808421978\n",
      "0.35867170289869044\n",
      "0.8318023377481786\n",
      "0.6622176882193195\n",
      "0.7428370533499519\n",
      "0.19226937609133343\n",
      "0.8658523519966662\n",
      "0.7876173338260222\n",
      "0.5377817089601252\n",
      "0.6882297817929524\n"
     ]
    }
   ],
   "source": [
    "np.random.randomstate=10\n",
    "for i in range (20):\n",
    "    print (np.random.random_sample())"
   ]
  },
  {
   "cell_type": "code",
   "execution_count": 8,
   "metadata": {},
   "outputs": [
    {
     "name": "stdout",
     "output_type": "stream",
     "text": [
      "2*x\n"
     ]
    }
   ],
   "source": [
    "from sympy import *\n",
    "x = Symbol ('x')\n",
    "y = x ** 2 + 1\n",
    "yprime = y.diff (x)\n",
    "print (yprime)\n"
   ]
  },
  {
   "cell_type": "code",
   "execution_count": null,
   "metadata": {},
   "outputs": [],
   "source": [
    "from scipy import misc\n",
    "\n",
    "# def f(x):\n",
    "   # return x**3 + x**2"
   ]
  },
  {
   "cell_type": "code",
   "execution_count": 19,
   "metadata": {},
   "outputs": [
    {
     "name": "stdout",
     "output_type": "stream",
     "text": [
      "2.718281828295588\n"
     ]
    }
   ],
   "source": [
    "def f(x):\n",
    "    return np.exp(x)\n",
    "\n",
    "v = misc.derivative(f, 1.0, dx = 1e-6)\n",
    "\n",
    "print (v)"
   ]
  },
  {
   "cell_type": "code",
   "execution_count": 1,
   "metadata": {},
   "outputs": [],
   "source": [
    "z = Symbol ('z')\n",
    "y = np.exp(z)\n",
    "yprime = y.diff (z)\n",
    "print (yprime)"
   ]
  },
  {
   "cell_type": "markdown",
   "metadata": {},
   "source": [
    "# Weibull Fit"
   ]
  },
  {
   "cell_type": "code",
   "execution_count": 20,
   "metadata": {},
   "outputs": [
    {
     "name": "stdout",
     "output_type": "stream",
     "text": [
      "[0.9826794  0.93012016 0.88018649 0.52856646 1.08636595 0.5596482\n",
      " 0.84061104 0.78681562 0.92151245 0.75465809 0.81497231 0.64718408\n",
      " 0.94262491 1.32471303 0.68124342 1.18333927 0.8982202  1.11115639\n",
      " 0.92358177 0.832648   0.91866943 0.95055005 1.08112523 1.06133035\n",
      " 0.82849887 0.68933334 1.12420626 1.29776203 0.57344792 1.24930058\n",
      " 1.19602092 1.02546972 1.27203327 1.4225393  0.98648251 1.17597965\n",
      " 0.6506221  0.58990865 0.74575306 1.13348578 0.76984993 0.47635234\n",
      " 0.75327138 0.75518654 1.10551538 0.80177117 1.04254035 1.0153156\n",
      " 1.09228383 0.70052891 1.31995898 1.22400039 1.14311043 1.02359716\n",
      " 0.6174764  1.41472557 0.44538195 0.73220226 1.01789368 1.02768076\n",
      " 0.57983644 1.05130263 0.90591478 0.90637336 1.00212854 1.06127578\n",
      " 0.99573692 0.78804609 1.13074838 0.54134228 0.9367134  1.08384829\n",
      " 1.11941684 0.88233496 1.21764869 1.10221322 1.18173228 1.17602872\n",
      " 1.34308647 0.90084744 0.92700503 0.93620626 0.7364865  0.58879621\n",
      " 1.25286081 0.95245599 1.1264156  1.40465066 1.05593963 0.86014662\n",
      " 1.09144395 0.88955976 0.82093496 1.0970189  0.43419066 0.86504027\n",
      " 0.76077253 1.00873126 0.80470975 0.69190883]\n"
     ]
    }
   ],
   "source": [
    "beta = 5\n",
    "random_sample = np.random.weibull(beta, 100)\n",
    "print (random_sample)"
   ]
  },
  {
   "cell_type": "code",
   "execution_count": 21,
   "metadata": {},
   "outputs": [
    {
     "name": "stdout",
     "output_type": "stream",
     "text": [
      "[0.02 0.04 0.06 0.08 0.1  0.12 0.14 0.16 0.18 0.2  0.22 0.24 0.26 0.28\n",
      " 0.3  0.32 0.34 0.36 0.38 0.4  0.42 0.44 0.46 0.48 0.5  0.52 0.54 0.56\n",
      " 0.58 0.6  0.62 0.64 0.66 0.68 0.7  0.72 0.74 0.76 0.78 0.8  0.82 0.84\n",
      " 0.86 0.88 0.9  0.92 0.94 0.96 0.98 1.   1.02 1.04 1.06 1.08 1.1  1.12\n",
      " 1.14 1.16 1.18 1.2  1.22 1.24 1.26 1.28 1.3  1.32 1.34 1.36 1.38 1.4\n",
      " 1.42 1.44 1.46 1.48 1.5  1.52 1.54 1.56 1.58 1.6  1.62 1.64 1.66 1.68\n",
      " 1.7  1.72 1.74 1.76 1.78 1.8  1.82 1.84 1.86 1.88 1.9  1.92 1.94 1.96\n",
      " 1.98]\n"
     ]
    }
   ],
   "source": [
    "x = np.arange(1,100)/50\n",
    "print (x)"
   ]
  },
  {
   "cell_type": "code",
   "execution_count": 26,
   "metadata": {},
   "outputs": [],
   "source": [
    "import matplotlib.pyplot as plt\n",
    "\n",
    "def weib (x,eta, beta):\n",
    "    return (beta/eta) * (x/eta) ** (beta-1) * np.exp(- (x/eta) ** beta)"
   ]
  },
  {
   "cell_type": "code",
   "execution_count": 28,
   "metadata": {},
   "outputs": [
    {
     "name": "stdout",
     "output_type": "stream",
     "text": [
      "[ 5.  7. 12. 19. 16. 15.  8. 11.  3.  4.] [0.51019828 0.60314072 0.69608316 0.7890256  0.88196804 0.97491048\n",
      " 1.06785292 1.16079536 1.2537378  1.34668024 1.43962268] <a list of 10 Patch objects>\n",
      "10.111382226321213\n"
     ]
    },
    {
     "data": {
      "image/png": "[encoded data removed]",
      "text/plain": [
       "<Figure size 432x288 with 1 Axes>"
      ]
     },
     "metadata": {},
     "output_type": "display_data"
    }
   ],
   "source": [
    "\n",
    "\n",
    "count, bins, ignored = plt.hist(np.random.weibull(beta, 100))\n",
    "print (count, bins, ignored)\n",
    "\n",
    "x = np.arange (1,100)/50\n",
    "scale = count.max()/weib(x, 1.0, 5.0).max()\n",
    "print (scale)\n",
    "\n",
    "plt.plot(x, weib(x, 1.0, 5.0) *scale )\n",
    "plt.show()"
   ]
  },
  {
   "cell_type": "code",
   "execution_count": 30,
   "metadata": {},
   "outputs": [
    {
     "name": "stdout",
     "output_type": "stream",
     "text": [
      "0.8895312083339716 0.26414885038021363 0.7869416254814524 0.5763152896528907\n",
      "-0.8895312083339716 0.26414885038021363 -0.7869416254814524 0.5763152896528907\n",
      "[0.07654199 0.09947674 0.12241149 0.14534624 0.16828099 0.19121574\n",
      " 0.21415049 0.23708525 0.26002    0.28295475 0.3058895  0.32882425\n",
      " 0.351759   0.37469375 0.3976285  0.42056325 0.443498   0.46643275\n",
      " 0.4893675  0.51230225 0.535237   0.55817175 0.5811065  0.60404125\n",
      " 0.626976   0.64991075 0.6728455  0.69578025 0.718715   0.74164975\n",
      " 0.7645845  0.78751926 0.81045401 0.83338876 0.85632351 0.87925826\n",
      " 0.90219301 0.92512776 0.94806251 0.97099726 0.99393201 1.01686676\n",
      " 1.03980151 1.06273626 1.08567101 1.10860576 1.13154051 1.15447526\n",
      " 1.17741001 1.20034476 1.22327951 1.24621426 1.26914901 1.29208376\n",
      " 1.31501851 1.33795327 1.36088802 1.38382277 1.40675752 1.42969227\n",
      " 1.45262702 1.47556177 1.49849652 1.52143127 1.54436602 1.56730077\n",
      " 1.59023552 1.61317027 1.63610502 1.65903977 1.68197452 1.70490927\n",
      " 1.72784402 1.75077877 1.77371352 1.79664827 1.81958302 1.84251777\n",
      " 1.86545252 1.88838728 1.91132203 1.93425678 1.95719153 1.98012628\n",
      " 2.00306103 2.02599578 2.04893053 2.07186528 2.09480003 2.11773478\n",
      " 2.14066953 2.16360428 2.18653903 2.20947378 2.23240853 2.25534328\n",
      " 2.27827803 2.30121278 2.32414753 2.34708228]\n"
     ]
    },
    {
     "data": {
      "image/png": "[encoded data removed]",
      "text/plain": [
       "<Figure size 432x288 with 1 Axes>"
      ]
     },
     "metadata": {},
     "output_type": "display_data"
    }
   ],
   "source": [
    "from scipy.stats import weibull_min, weibull_max\n",
    "fig, ax = plt.subplots(1,1)\n",
    "beta=1.79\n",
    "\n",
    "mean, var, skew, kurt =weibull_min.stats(beta, moments='mvsk')\n",
    "print (mean, var, skew, kurt)\n",
    "\n",
    "mean1, var1, skew1, kurt1 =weibull_max.stats(beta, moments='mvsk')\n",
    "print (mean1, var1, skew1, kurt1)\n",
    "\n",
    "x = np.linspace(weibull_min.ppf(0.01, beta), weibull_min.ppf(0.99, beta), 100)\n",
    "print (x)\n",
    "\n",
    "ax.plot(x, weibull_min.pdf(x,beta), 'r-', lw=5, alpha = 0.6, label ='weibull_min pdf')\n",
    "ax.plot(x, weibull_max.pdf(x,beta), 'b-', lw=5, alpha = 0.6, label ='weibull_max pdf')\n",
    "\n",
    "plt.show()"
   ]
  },
  {
   "cell_type": "markdown",
   "metadata": {},
   "source": [
    "## Weibull Maximum Likelihood"
   ]
  },
  {
   "cell_type": "code",
   "execution_count": 42,
   "metadata": {},
   "outputs": [
    {
     "name": "stdout",
     "output_type": "stream",
     "text": [
      "[0.9826794  0.93012016 0.88018649 0.52856646 1.08636595 0.5596482\n",
      " 0.84061104 0.78681562 0.92151245 0.75465809 0.81497231 0.64718408\n",
      " 0.94262491 1.32471303 0.68124342 1.18333927 0.8982202  1.11115639\n",
      " 0.92358177 0.832648   0.91866943 0.95055005 1.08112523 1.06133035\n",
      " 0.82849887 0.68933334 1.12420626 1.29776203 0.57344792 1.24930058\n",
      " 1.19602092 1.02546972 1.27203327 1.4225393  0.98648251 1.17597965\n",
      " 0.6506221  0.58990865 0.74575306 1.13348578 0.76984993 0.47635234\n",
      " 0.75327138 0.75518654 1.10551538 0.80177117 1.04254035 1.0153156\n",
      " 1.09228383 0.70052891 1.31995898 1.22400039 1.14311043 1.02359716\n",
      " 0.6174764  1.41472557 0.44538195 0.73220226 1.01789368 1.02768076\n",
      " 0.57983644 1.05130263 0.90591478 0.90637336 1.00212854 1.06127578\n",
      " 0.99573692 0.78804609 1.13074838 0.54134228 0.9367134  1.08384829\n",
      " 1.11941684 0.88233496 1.21764869 1.10221322 1.18173228 1.17602872\n",
      " 1.34308647 0.90084744 0.92700503 0.93620626 0.7364865  0.58879621\n",
      " 1.25286081 0.95245599 1.1264156  1.40465066 1.05593963 0.86014662\n",
      " 1.09144395 0.88955976 0.82093496 1.0970189  0.43419066 0.86504027\n",
      " 0.76077253 1.00873126 0.80470975 0.69190883]\n"
     ]
    }
   ],
   "source": [
    "from scipy.optimize import minimize\n",
    "\n",
    "print (random_sample)"
   ]
  },
  {
   "cell_type": "code",
   "execution_count": 44,
   "metadata": {},
   "outputs": [
    {
     "name": "stdout",
     "output_type": "stream",
     "text": [
      "-8\n"
     ]
    }
   ],
   "source": [
    "def print_neg(x):\n",
    "    return -x\n",
    "\n",
    "print (print_neg (8))"
   ]
  },
  {
   "cell_type": "code",
   "execution_count": 104,
   "metadata": {},
   "outputs": [
    {
     "name": "stdout",
     "output_type": "stream",
     "text": [
      "[1.07004197, 0.88019348, 0.70923411, 0.98432829, 0.75262579, 0.80127584, 1.21812368, 1.07429257, 1.19401016, 0.50758584]\n",
      "5.015804906112972 0 1.003827112575494\n",
      "     fun: -1.2889203091495378\n",
      "     jac: array([ 0.00322005, -0.000451  ])\n",
      " message: 'Optimization terminated successfully.'\n",
      "    nfev: 74\n",
      "     nit: 16\n",
      "    njev: 16\n",
      "  status: 0\n",
      " success: True\n",
      "       x: array([1.00382703, 5.01514703])\n",
      "1.2889203091357853\n"
     ]
    },
    {
     "name": "stderr",
     "output_type": "stream",
     "text": [
      "C:\\Program Files (x86)\\Microsoft Visual Studio\\Shared\\Anaconda3_64\\lib\\site-packages\\ipykernel_launcher.py:26: RuntimeWarning: divide by zero encountered in log\n"
     ]
    }
   ],
   "source": [
    "def weib_log (x,eta, beta):\n",
    "    return (np.log((beta/eta) * (x/eta) ** (beta-1) * np.exp(- (x/eta) ** beta)))\n",
    "\n",
    "# def weib_log_func (X, eta, beta):\n",
    "#     result = 1\n",
    "#     for x in X:\n",
    "#         result *= np.log((beta/eta) * (x/eta) ** (beta-1) * np.exp(- (x/eta) ** beta))\n",
    "#     return -result\n",
    "\n",
    "# random_sample = np.random.weibull(5, 100)\n",
    "random_sample = [1.07004197, 0.88019348, 0.70923411, 0.98432829, 0.75262579, 0.80127584,\n",
    " 1.21812368, 1.07429257, 1.19401016, 0.50758584]\n",
    "\n",
    "print (random_sample)\n",
    "\n",
    "beta, loc, scale = weibull_min.fit(random_sample, floc = 0)\n",
    "print (beta, loc, scale)\n",
    "\n",
    "\n",
    "def weib_log_func (eta):\n",
    "#     result = 1\n",
    "#     for x in random_sample:\n",
    "# #       result += np.log((beta/eta) * (x/eta) ** (beta-1) * np.exp(- (x/eta) ** beta))\n",
    "#         result += np.log((eta[1]/eta[0]) * (x/eta[0]) ** (eta[1]-1) * np.exp(- (x/eta[0]) ** eta[1]))\n",
    "#     return -result\n",
    "    return (-np.sum (np.log((eta[1]/eta[0]) * (random_sample/eta[0]) ** (eta[1]-1) * np.exp(- (random_sample/eta[0]) ** eta[1]))))\n",
    "\n",
    "    # return (eta[0] ** 2 * ( eta[0]) * eta[1] + eta[1] ** 3 * (-eta[0]))\n",
    "\n",
    "bnds = ((0.1, None), (0.1, None))\n",
    "\n",
    "res = minimize(weib_log_func, x0 = [0.1, 0.1], method='SLSQP', bounds=bnds)\n",
    "\n",
    "print (res)\n",
    "\n",
    "\n",
    "# [1.07004197, 0.88019348, 0.70923411, 0.98432829, 0.75262579, 0.80127584, 1.21812368, 1.07429257, 1.19401016, 0.50758584]\n",
    "# 5.015804906112972 0 1.003827112575494\n",
    "#      fun: -1.2889203091495378    ### This is the optimization result.\n",
    "#      jac: array([ 0.00322005, -0.000451  ])\n",
    "#  message: 'Optimization terminated successfully.'\n",
    "#     nfev: 74\n",
    "#      nit: 16\n",
    "#     njev: 16\n",
    "#   status: 0\n",
    "#  success: True\n",
    "#        x: array([1.00382703, 5.01514703])     ### This is the value to be calculated.\n",
    "\n",
    "eta = np.array([1.00382703, 5.01514703])\n",
    "print (np.sum (np.log((eta[1]/eta[0]) * (random_sample/eta[0]) ** (eta[1]-1) * np.exp(- (random_sample/eta[0]) ** eta[1]))))\n"
   ]
  },
  {
   "cell_type": "code",
   "execution_count": 101,
   "metadata": {},
   "outputs": [
    {
     "name": "stdout",
     "output_type": "stream",
     "text": [
      "[34.70502782 37.83462124 32.72350171 30.62947546 22.06639269 39.59140988\n",
      " 12.31742402 24.61764868 38.24170616 45.40100457]\n",
      "[0.74746688 3.99884548 0.51173451 0.25631044 4.10499062 0.8802257\n",
      " 3.97229021 4.49936898 2.48166313 1.58855301]\n",
      "     fun: 2.5990425489530256\n",
      "     jac: array([ 0.12932304, -0.00049818,  0.01130065])\n",
      " message: 'Optimization terminated successfully.'\n",
      "    nfev: 97\n",
      "     nit: 17\n",
      "    njev: 17\n",
      "  status: 0\n",
      " success: True\n",
      "       x: array([0.02268565, 3.31383652, 0.15711761])\n"
     ]
    },
    {
     "name": "stderr",
     "output_type": "stream",
     "text": [
      "C:\\Program Files (x86)\\Microsoft Visual Studio\\Shared\\Anaconda3_64\\lib\\site-packages\\ipykernel_launcher.py:12: RuntimeWarning: invalid value encountered in power\n",
      "  if sys.path[0] == '':\n",
      "C:\\Program Files (x86)\\Microsoft Visual Studio\\Shared\\Anaconda3_64\\lib\\site-packages\\ipykernel_launcher.py:12: RuntimeWarning: divide by zero encountered in log\n",
      "  if sys.path[0] == '':\n"
     ]
    }
   ],
   "source": [
    "temperature = np.random.rand (10) * 50\n",
    "vibration = np.random.rand (10) * 5\n",
    "print (temperature)\n",
    "print (vibration)\n",
    "\n",
    "def weib_log_func (eta):\n",
    "#     result = 1\n",
    "#     for x in random_sample:\n",
    "# #       result += np.log((beta/eta) * (x/eta) ** (beta-1) * np.exp(- (x/eta) ** beta))\n",
    "#         result += np.log((eta[1]/eta[0]) * (x/eta[0]) ** (eta[1]-1) * np.exp(- (x/eta[0]) ** eta[1]))\n",
    "#     return -result\n",
    "    return (-np.sum (np.log((eta[1]/(eta[0] * temperature + eta[2] * vibration)) * (random_sample/(eta[0] * temperature + eta[2] * vibration)) ** (eta[1]-1) * np.exp(- (random_sample/(eta[0] * temperature + eta[2] * vibration)) ** eta[1]))))\n",
    "\n",
    "    # return (eta[0] ** 2 * ( eta[0]) * eta[1] + eta[1] ** 3 * (-eta[0]))\n",
    "\n",
    "bnds = ((-2, None), (0.1, None), (-2, None))\n",
    "\n",
    "res = minimize(weib_log_func, x0 = [0.1, 0.1, 0.1], method='SLSQP', bounds=bnds)\n",
    "\n",
    "print (res)\n",
    "\n",
    "\n"
   ]
  },
  {
   "cell_type": "code",
   "execution_count": 75,
   "metadata": {},
   "outputs": [],
   "source": [
    "# from scipy.optimize import least_squares\n",
    "# x0_rosenbrock = np.array([2, 2])\n",
    "# print (x0_rosenbrock)\n",
    "\n",
    "# res_1 = least_squares(fun_rosenbrock, x0_rosenbrock)\n",
    "# print (x)\n",
    "\n",
    "# # res_1.cost\n",
    "\n",
    "# # res_1.optimality\n"
   ]
  },
  {
   "cell_type": "markdown",
   "metadata": {},
   "source": [
    "# Other optimization code (get Minimize value)."
   ]
  },
  {
   "cell_type": "code",
   "execution_count": 38,
   "metadata": {},
   "outputs": [
    {
     "name": "stdout",
     "output_type": "stream",
     "text": [
      "     fun: -9.914949590828147\n",
      "    nfev: 15\n",
      "     nit: 11\n",
      " success: True\n",
      "       x: 1.2807764040333458 1.2807764040333458\n",
      "     fun: 735.0023842442022\n",
      " message: 'Solution found.'\n",
      "    nfev: 27\n",
      "  status: 0\n",
      " success: True\n",
      "       x: 5.000003960533956 5.000003960533956\n"
     ]
    }
   ],
   "source": [
    "def f(x):\n",
    "    return (x - 2) * x * (x + 2)**2\n",
    "\n",
    "from scipy.optimize import minimize_scalar\n",
    "\n",
    "res = minimize_scalar(f)\n",
    "print (res, res.x)\n",
    "\n",
    "res = minimize_scalar(f, bounds=(5, 7), method='bounded')\n",
    "print (res, res.x)\n"
   ]
  },
  {
   "cell_type": "code",
   "execution_count": 55,
   "metadata": {},
   "outputs": [
    {
     "name": "stdout",
     "output_type": "stream",
     "text": [
      "Optimization terminated successfully.\n",
      "         Current function value: -1.031628\n",
      "         Iterations: 13\n",
      "         Function evaluations: 72\n",
      "         Gradient evaluations: 18\n"
     ]
    },
    {
     "data": {
      "text/plain": [
       "array([ 0.08984197, -0.71265635])"
      ]
     },
     "execution_count": 55,
     "metadata": {},
     "output_type": "execute_result"
    }
   ],
   "source": [
    "from scipy import optimize\n",
    "\n",
    "def f(x):\n",
    "    return (4 - 2.1*x[0]**2 + x[0]**4/3)*x[0]**2 + x[0]*x[1] + (4*x[1]**2 - 4)*x[1]**2\n",
    "\n",
    "x0 = [1,1]\n",
    "\n",
    "optimize.fmin_bfgs(f, x0)\n",
    "\n",
    "# print (f)\n",
    "# print (f.x)"
   ]
  },
  {
   "cell_type": "code",
   "execution_count": 80,
   "metadata": {},
   "outputs": [
    {
     "name": "stdout",
     "output_type": "stream",
     "text": [
      "     fun: -0.9999999729188314\n",
      "     jac: array([ 0.70704866, -0.00093073])\n",
      " message: 'Optimization terminated successfully.'\n",
      "    nfev: 34\n",
      "     nit: 8\n",
      "    njev: 8\n",
      "  status: 0\n",
      " success: True\n",
      "       x: array([4.95319194e-17, 7.07048597e-01])\n"
     ]
    }
   ],
   "source": [
    "bnds = ((0, None), (-2, None))\n",
    "\n",
    "res = minimize(f, x0 = [1, 1], method='SLSQP', bounds=bnds)\n",
    "\n",
    "print (res)"
   ]
  },
  {
   "cell_type": "code",
   "execution_count": 57,
   "metadata": {},
   "outputs": [
    {
     "name": "stdout",
     "output_type": "stream",
     "text": [
      "1.9454705718107284\n"
     ]
    }
   ],
   "source": [
    "# print ((4 - 2.1*x[0]**2 + x[0]**4/3)*x[0]**2 + x[0]*x[1] + (4*x[1]**2 - 4)*x[1]**2)\n",
    "print ((4 - 2.1*0.70704866**2 + 0.70704866*4/3)*0.70704866**2 + 0.70704866*(-0.00093073) + (4*(-0.00093073)**2 - 4)*(-0.00093073)**2)"
   ]
  },
  {
   "cell_type": "code",
   "execution_count": 58,
   "metadata": {},
   "outputs": [
    {
     "name": "stdout",
     "output_type": "stream",
     "text": [
      "-0.9999999729190321\n"
     ]
    }
   ],
   "source": [
    "print ((4 - 2.1*(4.95319194e-17)**2 + (4.95319194e-17)**4/3)*(4.95319194e-17)**2 + (4.95319194e-17)*(7.07048597e-01) + (4*(7.07048597e-01)**2 - 4)*(7.07048597e-01)**2)"
   ]
  },
  {
   "cell_type": "code",
   "execution_count": 63,
   "metadata": {},
   "outputs": [
    {
     "name": "stdout",
     "output_type": "stream",
     "text": [
      "30\n"
     ]
    }
   ],
   "source": [
    "print (np.sum([3,5,7] * 2))"
   ]
  }
 ],
 "metadata": {
  "kernelspec": {
   "display_name": "Python 3",
   "language": "python",
   "name": "python3"
  },
  "language_info": {
   "codemirror_mode": {
    "name": "ipython",
    "version": 3
   },
   "file_extension": ".py",
   "mimetype": "text/x-python",
   "name": "python",
   "nbconvert_exporter": "python",
   "pygments_lexer": "ipython3",
   "version": "3.7.6"
  }
 },
 "nbformat": 4,
 "nbformat_minor": 2
}
