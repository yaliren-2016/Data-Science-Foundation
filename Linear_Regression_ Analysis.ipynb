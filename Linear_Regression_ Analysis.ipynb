{
 "cells": [
  {
   "cell_type": "code",
   "execution_count": 2,
   "metadata": {},
   "outputs": [],
   "source": [
    "import pandas as pd\n",
    "import numpy as np\n",
    "import matplotlib.pyplot as plt"
   ]
  },
  {
   "cell_type": "code",
   "execution_count": 3,
   "metadata": {},
   "outputs": [
    {
     "name": "stdout",
     "output_type": "stream",
     "text": [
      "    Mach hrs  Ind Labor\n",
      "0         68       1190\n",
      "1         88       1211\n",
      "2         62       1004\n",
      "3         72        917\n",
      "4         60        770\n",
      "5         96       1456\n",
      "6         78       1180\n",
      "7         46        710\n",
      "8         82       1316\n",
      "9         94       1032\n",
      "10        68        752\n",
      "11        48        963\n"
     ]
    }
   ],
   "source": [
    "machine_labor = pd.DataFrame({'Mach hrs': [68,88,62,72,60,96,78,46,82, 94, 68, 48],\n",
    "                             'Ind Labor': [1190,1211, 1004, 917, 770, 1456, 1180, 710, 1316, 1032, 752, 963]})\n",
    "print (machine_labor)"
   ]
  },
  {
   "cell_type": "code",
   "execution_count": 5,
   "metadata": {},
   "outputs": [
    {
     "name": "stdout",
     "output_type": "stream",
     "text": [
      "    Mach hrs  Ind Labor\n",
      "0         68       1190\n",
      "1         88       1211\n",
      "2         62       1004\n",
      "3         72        917\n",
      "4         60        770\n",
      "5         96       1456\n",
      "6         78       1180\n",
      "7         46        710\n",
      "8         82       1316\n",
      "9         94       1032\n",
      "10        68        752\n",
      "11        48        963\n"
     ]
    }
   ],
   "source": [
    "machine_labor = machine_labor.rename(columns = {'A': 'B'})\n",
    "print (machine_labor)"
   ]
  },
  {
   "cell_type": "code",
   "execution_count": 6,
   "metadata": {},
   "outputs": [
    {
     "name": "stdout",
     "output_type": "stream",
     "text": [
      "    A0    B0\n",
      "0   68  1190\n",
      "1   88  1211\n",
      "2   62  1004\n",
      "3   72   917\n",
      "4   60   770\n",
      "5   96  1456\n",
      "6   78  1180\n",
      "7   46   710\n",
      "8   82  1316\n",
      "9   94  1032\n",
      "10  68   752\n",
      "11  48   963\n"
     ]
    }
   ],
   "source": [
    "machine_labor.columns = ['A0', 'B0']\n",
    "print (machine_labor)"
   ]
  },
  {
   "cell_type": "code",
   "execution_count": 13,
   "metadata": {},
   "outputs": [
    {
     "name": "stdout",
     "output_type": "stream",
     "text": [
      "    A0\n",
      "0   68\n",
      "1   88\n",
      "2   62\n",
      "3   72\n",
      "4   60\n",
      "5   96\n",
      "6   78\n",
      "7   46\n",
      "8   82\n",
      "9   94\n",
      "10  68\n",
      "11  48\n",
      "[10.31239512] 300.9762837006376\n"
     ]
    }
   ],
   "source": [
    "from sklearn import linear_model\n",
    "lm = linear_model.LinearRegression()\n",
    "X = machine_labor.loc[:, ['A0']]\n",
    "print (X)\n",
    "\n",
    "Y = machine_labor.B0\n",
    "lm.fit(X, Y)\n",
    "print (lm.coef_, lm.intercept_)"
   ]
  },
  {
   "cell_type": "code",
   "execution_count": 8,
   "metadata": {},
   "outputs": [
    {
     "name": "stdout",
     "output_type": "stream",
     "text": [
      "LinearRegression(copy_X=True, fit_intercept=True, n_jobs=None,\n",
      "         normalize=False)\n"
     ]
    }
   ],
   "source": [
    "print (lm)"
   ]
  },
  {
   "cell_type": "code",
   "execution_count": 9,
   "metadata": {},
   "outputs": [
    {
     "name": "stdout",
     "output_type": "stream",
     "text": [
      "0.5214333283443293\n"
     ]
    }
   ],
   "source": [
    "### Goodness of fit\n",
    "R2 = lm.score(X,Y)\n",
    "print (R2)"
   ]
  },
  {
   "cell_type": "code",
   "execution_count": 10,
   "metadata": {},
   "outputs": [
    {
     "name": "stdout",
     "output_type": "stream",
     "text": [
      "24235.34407278964\n",
      "24235.34407278964\n",
      "155.67705056555266\n"
     ]
    }
   ],
   "source": [
    "from sklearn.metrics import mean_squared_error\n",
    "Y_predict = lm.predict(X)\n",
    "mse = mean_squared_error(Y_predict, Y)\n",
    "print (mse)\n",
    "mse = mean_squared_error(Y, Y_predict)\n",
    "print (mse)\n",
    "print (np.sqrt(mse))"
   ]
  },
  {
   "cell_type": "code",
   "execution_count": 1,
   "metadata": {},
   "outputs": [],
   "source": [
    "machine_labor[\"A1\"] = [18, 28, 19, 15, 25, 30, 19, 22, 27, 21, 26, 29]\n",
    "from scipy.stats import linregress\n",
    "print (X)\n",
    "print (X.shape)\n",
    "#  X= np.array(machine_labor.loc [:, [\"A0\", \"A1\"]]) [:, 0:2]\n",
    "                                   \n",
    "# X= np.array(machine_labor.loc [:, [\"A0\", \"A1\"]])\n",
    "X = np.append([X[:, 0]], [X[:, 1]], axis=0)\n",
    "print (X)\n",
    "\n",
    "# X = np.append([X[:, 0]], [X[:, 1]], axis=0)\n",
    "# print (X)\n",
    "\n",
    "Y = np.array(Y)\n",
    "print (Y)\n",
    "\n",
    "print (linregress(X, Y))\n",
    "# slope, intercept, r_value, p_value, std_err = linregress(X, Y)\n",
    "# print (slope, intercept, r_value, p_value, std_err)"
   ]
  },
  {
   "cell_type": "code",
   "execution_count": 22,
   "metadata": {},
   "outputs": [
    {
     "name": "stdout",
     "output_type": "stream",
     "text": [
      "[[68 88 62 72 60 96 78 46 82 94 68 48]\n",
      " [18 28 19 15 25 30 19 22 27 21 26 29]]\n"
     ]
    }
   ],
   "source": [
    "print (np.append([X[:, 0]], [X[:, 1]], axis=0))"
   ]
  },
  {
   "cell_type": "code",
   "execution_count": 35,
   "metadata": {},
   "outputs": [
    {
     "name": "stdout",
     "output_type": "stream",
     "text": [
      "                            OLS Regression Results                            \n",
      "==============================================================================\n",
      "Dep. Variable:                     B0   R-squared:                       0.543\n",
      "Model:                            OLS   Adj. R-squared:                  0.442\n",
      "Method:                 Least Squares   F-statistic:                     5.356\n",
      "Date:                Fri, 05 Jul 2019   Prob (F-statistic):             0.0294\n",
      "Time:                        17:38:27   Log-Likelihood:                -77.319\n",
      "No. Observations:                  12   AIC:                             160.6\n",
      "Df Residuals:                       9   BIC:                             162.1\n",
      "Df Model:                           2                                         \n",
      "Covariance Type:            nonrobust                                         \n",
      "==============================================================================\n",
      "                 coef    std err          t      P>|t|      [0.025      0.975]\n",
      "------------------------------------------------------------------------------\n",
      "Intercept    155.9005    323.349      0.482      0.641    -575.566     887.367\n",
      "A0            10.0075      3.250      3.079      0.013       2.656      17.359\n",
      "A1             7.1818     10.913      0.658      0.527     -17.505      31.868\n",
      "==============================================================================\n",
      "Omnibus:                        1.371   Durbin-Watson:                   1.999\n",
      "Prob(Omnibus):                  0.504   Jarque-Bera (JB):                0.902\n",
      "Skew:                          -0.359   Prob(JB):                        0.637\n",
      "Kurtosis:                       1.865   Cond. No.                         492.\n",
      "==============================================================================\n",
      "\n",
      "Warnings:\n",
      "[1] Standard Errors assume that the covariance matrix of the errors is correctly specified.\n",
      "\n",
      "Retrieving manually the parameter estimates:\n",
      "[155.90048632  10.0074942    7.18184289]\n",
      "\n",
      "ANOVA results\n",
      "           df         sum_sq        mean_sq          F    PR(>F)\n",
      "A0        1.0  316874.121127  316874.121127  10.278057  0.010729\n",
      "A1        1.0   13352.712245   13352.712245   0.433106  0.526943\n",
      "Residual  9.0  277471.416628   30830.157403        NaN       NaN\n"
     ]
    },
    {
     "name": "stderr",
     "output_type": "stream",
     "text": [
      "C:\\Program Files (x86)\\Microsoft Visual Studio\\Shared\\Anaconda3_64\\lib\\site-packages\\scipy\\stats\\stats.py:1394: UserWarning: kurtosistest only valid for n>=20 ... continuing anyway, n=12\n",
      "  \"anyway, n=%i\" % int(n))\n"
     ]
    }
   ],
   "source": [
    "# Convert the data into a Pandas DataFrame to use the formulas framework\n",
    "# in statsmodels\n",
    "\n",
    "# For statistics. Requires statsmodels 5.0 or more\n",
    "from statsmodels.formula.api import ols\n",
    "# Analysis of Variance (ANOVA) on linear models\n",
    "from statsmodels.stats.anova import anova_lm\n",
    "\n",
    "# Fit the model\n",
    "model = ols(\"B0 ~ A0 + A1\", machine_labor).fit()\n",
    "\n",
    "# Print the summary\n",
    "print(model.summary())\n",
    "\n",
    "print(\"\\nRetrieving manually the parameter estimates:\")\n",
    "print(model._results.params)\n",
    "# should be array([-4.99754526,  3.00250049, -0.50514907])\n",
    "\n",
    "# Peform analysis of variance on fitted linear model\n",
    "anova_results = anova_lm(model)\n",
    "\n",
    "print('\\nANOVA results')\n",
    "print(anova_results)\n",
    "\n",
    "plt.show()\n"
   ]
  },
  {
   "cell_type": "code",
   "execution_count": 10,
   "metadata": {},
   "outputs": [
    {
     "name": "stdout",
     "output_type": "stream",
     "text": [
      "A     8\n",
      "B     9\n",
      "C    10\n",
      "D    11\n",
      "Name: 2, dtype: int32\n"
     ]
    }
   ],
   "source": [
    "df = pd.DataFrame(np.arange(12).reshape(3, 4),  columns=['A', 'B', 'C', 'D'])\n",
    "print (df.iloc[2,:])"
   ]
  },
  {
   "cell_type": "code",
   "execution_count": 12,
   "metadata": {},
   "outputs": [
    {
     "name": "stdout",
     "output_type": "stream",
     "text": [
      "[ 0  1  2  3  4  5  6  7  8  9 10 11]\n",
      "[array([0, 1, 2, 3]), array([4, 5, 6, 7]), array([ 8,  9, 10, 11])]\n"
     ]
    }
   ],
   "source": [
    "x = np.arange(12)\n",
    "print (x)\n",
    "\n",
    "y = np.split(x, 3)\n",
    "print (y)\n"
   ]
  },
  {
   "cell_type": "code",
   "execution_count": null,
   "metadata": {},
   "outputs": [],
   "source": []
  }
 ],
 "metadata": {
  "kernelspec": {
   "display_name": "Python 3",
   "language": "python",
   "name": "python3"
  },
  "language_info": {
   "codemirror_mode": {
    "name": "ipython",
    "version": 3
   },
   "file_extension": ".py",
   "mimetype": "text/x-python",
   "name": "python",
   "nbconvert_exporter": "python",
   "pygments_lexer": "ipython3",
   "version": "3.7.6"
  }
 },
 "nbformat": 4,
 "nbformat_minor": 2
}
