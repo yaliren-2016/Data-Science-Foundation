{
 "cells": [
  {
   "cell_type": "code",
   "execution_count": 1,
   "metadata": {},
   "outputs": [
    {
     "name": "stdout",
     "output_type": "stream",
     "text": [
      "[0.99244289 0.00755711]\n"
     ]
    }
   ],
   "source": [
    "import numpy as np\n",
    "from sklearn.decomposition import PCA\n",
    "X = np.array([[-1, -1], [-2, -1], [-3, -2], [1, 1], [2, 1], [3, 2]])\n",
    "pca = PCA(n_components=2)\n",
    "pca.fit(X)  \n",
    "print(pca.explained_variance_ratio_)  "
   ]
  },
  {
   "cell_type": "code",
   "execution_count": 2,
   "metadata": {},
   "outputs": [
    {
     "name": "stdout",
     "output_type": "stream",
     "text": [
      "[0.71154703 0.28542845 0.00302452]\n",
      "1.0\n",
      "[[ 0.48912325  0.33346615  0.80595209]\n",
      " [ 0.68893247  0.41898205 -0.59146098]\n",
      " [ 0.53491168 -0.84454388  0.0248018 ]]\n",
      "[12.99759236  5.21382634  0.05524798]\n"
     ]
    }
   ],
   "source": [
    "X = np.array([[-1, -1, 3], [-2, -1, 1], [-3, -2, 4], [1, 1, 5], [2, 1, 0], [3, 2, 9]])\n",
    "pca = PCA(n_components=3)\n",
    "pca.fit(X)  \n",
    "print(pca.explained_variance_ratio_)\n",
    "print (np.sum(pca.explained_variance_ratio_))\n",
    "print (pca.components_)\n",
    "print (pca.explained_variance_)"
   ]
  },
  {
   "cell_type": "code",
   "execution_count": 3,
   "metadata": {},
   "outputs": [
    {
     "name": "stdout",
     "output_type": "stream",
     "text": [
      "2.4929085730592027 2.4929085691795407\n"
     ]
    }
   ],
   "source": [
    "print (0.71154703/0.28542845, 12.9975923612/5.21382634)"
   ]
  },
  {
   "cell_type": "code",
   "execution_count": 4,
   "metadata": {},
   "outputs": [
    {
     "name": "stdout",
     "output_type": "stream",
     "text": [
      "[0.71154703 0.28542845]\n",
      "0.9969754758062892\n",
      "[[ 0.48912325  0.33346615  0.80595209]\n",
      " [ 0.68893247  0.41898205 -0.59146098]]\n",
      "[12.99759236  5.21382634]\n"
     ]
    }
   ],
   "source": [
    "pca = PCA(n_components=2)\n",
    "pca.fit(X)  \n",
    "print(pca.explained_variance_ratio_)\n",
    "print (np.sum(pca.explained_variance_ratio_))\n",
    "print (pca.components_)\n",
    "print (pca.explained_variance_)"
   ]
  },
  {
   "cell_type": "code",
   "execution_count": null,
   "metadata": {},
   "outputs": [],
   "source": []
  }
 ],
 "metadata": {
  "kernelspec": {
   "display_name": "Python 3",
   "language": "python",
   "name": "python3"
  },
  "language_info": {
   "codemirror_mode": {
    "name": "ipython",
    "version": 3
   },
   "file_extension": ".py",
   "mimetype": "text/x-python",
   "name": "python",
   "nbconvert_exporter": "python",
   "pygments_lexer": "ipython3",
   "version": "3.7.4"
  }
 },
 "nbformat": 4,
 "nbformat_minor": 2
}
